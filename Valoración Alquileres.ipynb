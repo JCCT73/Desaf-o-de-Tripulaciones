{
 "cells": [
  {
   "cell_type": "code",
   "execution_count": 1,
   "metadata": {},
   "outputs": [],
   "source": [
    "import pandas as pd\n",
    "import matplotlib.pyplot as plt\n",
    "import seaborn as sns\n",
    "import numpy as np\n",
    "from geopy.geocoders import Nominatim\n",
    "from sklearn.preprocessing import LabelEncoder\n",
    "from sklearn.preprocessing import StandardScaler\n",
    "import os\n",
    "import joblib\n",
    "import pickle\n",
    "import mlflow.sklearn"
   ]
  },
  {
   "cell_type": "code",
   "execution_count": 2,
   "metadata": {},
   "outputs": [],
   "source": [
    "from sklearn.ensemble import RandomForestRegressor\n",
    "from sklearn.cluster import KMeans"
   ]
  },
  {
   "cell_type": "code",
   "execution_count": 3,
   "metadata": {},
   "outputs": [],
   "source": [
    "from sklearn.model_selection import train_test_split\n",
    "from sklearn.model_selection import GridSearchCV"
   ]
  },
  {
   "cell_type": "code",
   "execution_count": 4,
   "metadata": {},
   "outputs": [],
   "source": [
    "from sklearn.metrics import mean_squared_error, r2_score"
   ]
  },
  {
   "cell_type": "code",
   "execution_count": 5,
   "metadata": {},
   "outputs": [],
   "source": [
    "df = pd.read_csv(r\"C:\\Users\\axa\\THE BRIDGE_23\\SEMANA 25. DESAFIO TRIPULACIONES\\df.csv\", sep=\",\")"
   ]
  },
  {
   "cell_type": "markdown",
   "metadata": {},
   "source": [
    "# Limpieza del dataset. Tratamiento de Valores nulos"
   ]
  },
  {
   "cell_type": "code",
   "execution_count": 6,
   "metadata": {},
   "outputs": [],
   "source": [
    "# Eliminamos filas que no pertenecen a Madrid Capital \n",
    "df = df[~df['distrito'].isin(['Ciudalcampo', 'La Moraleja'])]"
   ]
  },
  {
   "cell_type": "code",
   "execution_count": 7,
   "metadata": {},
   "outputs": [],
   "source": [
    "# Eliminar 17 Columnas\n",
    "columns_to_drop = ['Unnamed: 0', 'origin_id', 'construction_year', 'first_appearance', 'last_appearance', 'is_exact_address','is_vertical','n_floor', 'has_storage', 'has_garage_included', 'has_common_zones', 'has_terrace', 'has_air_conditioner', 'cardinal_direction_id','has_racket_zone','has_security','direccion']\n",
    "df1 = df.drop(columns=columns_to_drop)"
   ]
  },
  {
   "cell_type": "code",
   "execution_count": 8,
   "metadata": {},
   "outputs": [
    {
     "name": "stdout",
     "output_type": "stream",
     "text": [
      "['Chamberí' 'Chamartín' 'Tetuán' 'Retiro' 'Hortaleza' 'Salamanca' 'Centro'\n",
      " 'Arganzuela' 'Moncloa-Aravaca' 'Latina' 'Villa de Vallecas' 'Barajas'\n",
      " 'Ciudad Lineal' 'Vicálvaro' 'Puente de Vallecas' 'Fuencarral-El Pardo'\n",
      " 'Carabanchel' 'Usera' 'San Blas - Canillejas' 'Villaverde' 'Moratalaz']\n"
     ]
    }
   ],
   "source": [
    "# Limpieza de barrios y calles en la columna \"distritos\"\n",
    "mapeo_distritos = {\n",
    "    \"Universidad\": \"Centro\",\n",
    "    \"Justicia\": \"Centro\",\n",
    "    \"Distrito Municipal I (sin urbanizaciones)\": \"Centro\",\n",
    "    \"Calle de Rejas\": \"Barajas\",\n",
    "    \"Plaza de los Emperadores\": \"Barajas\",\n",
    "    \"Colina\": \"Ciudad Lineal\",\n",
    "    \"Casa de Campo\": \"Moncloa-Aravaca\",\n",
    "    \"Ciudad Jardín\": \"Chamartín\",\n",
    "    \"Campamento\": \"Latina\",\n",
    "    \"Bellas Vistas\": \"Tetuán\",\n",
    "    \"Valdefuentes\": \"Hortaleza\",\n",
    "    \"Trafalgar\": \"Chamberí\",\n",
    "    \"Mirasierra\": \"Fuencarral-El Pardo\"\n",
    "}\n",
    "df1['distrito'] = df1['distrito'].map(mapeo_distritos).fillna(df1['distrito'])\n",
    "print(df1['distrito'].unique())"
   ]
  },
  {
   "cell_type": "code",
   "execution_count": 9,
   "metadata": {},
   "outputs": [
    {
     "data": {
      "text/html": [
       "<div>\n",
       "<style scoped>\n",
       "    .dataframe tbody tr th:only-of-type {\n",
       "        vertical-align: middle;\n",
       "    }\n",
       "\n",
       "    .dataframe tbody tr th {\n",
       "        vertical-align: top;\n",
       "    }\n",
       "\n",
       "    .dataframe thead th {\n",
       "        text-align: right;\n",
       "    }\n",
       "</style>\n",
       "<table border=\"1\" class=\"dataframe\">\n",
       "  <thead>\n",
       "    <tr style=\"text-align: right;\">\n",
       "      <th></th>\n",
       "      <th>area</th>\n",
       "      <th>local_price</th>\n",
       "      <th>replace</th>\n",
       "      <th>replace.1</th>\n",
       "      <th>tipology</th>\n",
       "      <th>description</th>\n",
       "      <th>title</th>\n",
       "      <th>url</th>\n",
       "      <th>n_rooms</th>\n",
       "      <th>n_baths</th>\n",
       "      <th>has_garage</th>\n",
       "      <th>has_pool</th>\n",
       "      <th>has_elevator</th>\n",
       "      <th>is_exterior</th>\n",
       "      <th>distrito</th>\n",
       "    </tr>\n",
       "  </thead>\n",
       "  <tbody>\n",
       "    <tr>\n",
       "      <th>1278</th>\n",
       "      <td>120</td>\n",
       "      <td>0</td>\n",
       "      <td>40.400146</td>\n",
       "      <td>-3.673077</td>\n",
       "      <td>Piso</td>\n",
       "      <td>NaN</td>\n",
       "      <td>NaN</td>\n",
       "      <td>https://www.idealista.com/inmueble/81468436</td>\n",
       "      <td>1.0</td>\n",
       "      <td>1.0</td>\n",
       "      <td>NaN</td>\n",
       "      <td>NaN</td>\n",
       "      <td>t</td>\n",
       "      <td>t</td>\n",
       "      <td>Retiro</td>\n",
       "    </tr>\n",
       "    <tr>\n",
       "      <th>1569</th>\n",
       "      <td>75</td>\n",
       "      <td>0</td>\n",
       "      <td>40.448269</td>\n",
       "      <td>-3.649879</td>\n",
       "      <td>Piso</td>\n",
       "      <td>NaN</td>\n",
       "      <td>NaN</td>\n",
       "      <td>https://www.idealista.com/inmueble/81555931</td>\n",
       "      <td>2.0</td>\n",
       "      <td>1.0</td>\n",
       "      <td>t</td>\n",
       "      <td>NaN</td>\n",
       "      <td>t</td>\n",
       "      <td>t</td>\n",
       "      <td>Ciudad Lineal</td>\n",
       "    </tr>\n",
       "    <tr>\n",
       "      <th>2118</th>\n",
       "      <td>50</td>\n",
       "      <td>0</td>\n",
       "      <td>40.473816</td>\n",
       "      <td>-3.581212</td>\n",
       "      <td>Piso</td>\n",
       "      <td>NaN</td>\n",
       "      <td>NaN</td>\n",
       "      <td>https://www.idealista.com/inmueble/39712472</td>\n",
       "      <td>1.0</td>\n",
       "      <td>1.0</td>\n",
       "      <td>t</td>\n",
       "      <td>NaN</td>\n",
       "      <td>t</td>\n",
       "      <td>t</td>\n",
       "      <td>Barajas</td>\n",
       "    </tr>\n",
       "  </tbody>\n",
       "</table>\n",
       "</div>"
      ],
      "text/plain": [
       "      area  local_price    replace  replace.1 tipology description title  \\\n",
       "1278   120            0  40.400146  -3.673077     Piso         NaN   NaN   \n",
       "1569    75            0  40.448269  -3.649879     Piso         NaN   NaN   \n",
       "2118    50            0  40.473816  -3.581212     Piso         NaN   NaN   \n",
       "\n",
       "                                              url  n_rooms  n_baths  \\\n",
       "1278  https://www.idealista.com/inmueble/81468436      1.0      1.0   \n",
       "1569  https://www.idealista.com/inmueble/81555931      2.0      1.0   \n",
       "2118  https://www.idealista.com/inmueble/39712472      1.0      1.0   \n",
       "\n",
       "     has_garage has_pool has_elevator is_exterior       distrito  \n",
       "1278        NaN      NaN            t           t         Retiro  \n",
       "1569          t      NaN            t           t  Ciudad Lineal  \n",
       "2118          t      NaN            t           t        Barajas  "
      ]
     },
     "execution_count": 9,
     "metadata": {},
     "output_type": "execute_result"
    }
   ],
   "source": [
    "# Imputación de valores erróneos en la columna \"local_price\"\n",
    "df1[df1['local_price'] == 0]"
   ]
  },
  {
   "cell_type": "code",
   "execution_count": 10,
   "metadata": {},
   "outputs": [],
   "source": [
    "df1.at[1278, 'local_price'] = 1800\n",
    "df1.at[1569, 'local_price'] = 1250\n",
    "df1.at[2118, 'local_price'] = 800"
   ]
  },
  {
   "cell_type": "code",
   "execution_count": 11,
   "metadata": {},
   "outputs": [
    {
     "data": {
      "text/plain": [
       "172"
      ]
     },
     "execution_count": 11,
     "metadata": {},
     "output_type": "execute_result"
    }
   ],
   "source": [
    "len(df1[df1['local_price'] > 7000])"
   ]
  },
  {
   "cell_type": "code",
   "execution_count": 12,
   "metadata": {},
   "outputs": [],
   "source": [
    "def imputar_n_rooms(row):\n",
    "    if pd.notna(row['n_rooms']):\n",
    "        return row['n_rooms']\n",
    "    elif pd.notna(row['description']):\n",
    "        description = row['description'].lower()\n",
    "        if 'estudio' in description or 'loft' in description or 'sin divisiones' in description:\n",
    "            return 0\n",
    "    return None\n",
    "\n",
    "df1['n_rooms'] = df1.apply(imputar_n_rooms, axis=1)"
   ]
  },
  {
   "cell_type": "code",
   "execution_count": 13,
   "metadata": {},
   "outputs": [],
   "source": [
    "df1['n_rooms'].fillna(1, inplace=True)"
   ]
  },
  {
   "cell_type": "code",
   "execution_count": 14,
   "metadata": {},
   "outputs": [],
   "source": [
    "valores_a_eliminar = [9.0, 10.0, 15.0, 22.0]\n",
    "df1 = df1[~df1['n_rooms'].isin(valores_a_eliminar)]"
   ]
  },
  {
   "cell_type": "code",
   "execution_count": 15,
   "metadata": {},
   "outputs": [],
   "source": [
    "df1['n_baths'].fillna(1, inplace=True)"
   ]
  },
  {
   "cell_type": "code",
   "execution_count": 16,
   "metadata": {},
   "outputs": [],
   "source": [
    "reemplazos = {0.0: 2.0, 20.0: 2.0, 22.0: 2.0, 55.0: 1.0}\n",
    "df1['n_baths'].replace(reemplazos, inplace=True)"
   ]
  },
  {
   "cell_type": "code",
   "execution_count": 17,
   "metadata": {},
   "outputs": [],
   "source": [
    "valores_a_eliminar = [10.0, 11.0, 13.0]\n",
    "df1 = df1[~df1['n_baths'].isin(valores_a_eliminar)]"
   ]
  },
  {
   "cell_type": "code",
   "execution_count": 18,
   "metadata": {},
   "outputs": [],
   "source": [
    "valores_a_eliminar = [635, 650, 680, 690, 720, 750, 758, 965, 1000, 1024, 1100, 1150, 1200, 1203, 2800, 7840]\n",
    "df1 = df1[~df1['area'].isin(valores_a_eliminar)]"
   ]
  },
  {
   "cell_type": "code",
   "execution_count": 19,
   "metadata": {},
   "outputs": [],
   "source": [
    "keywords = ['garaje', 'garage', 'plaza de parking', 'parking']\n",
    "condition = df1['description'].str.contains('|'.join(keywords), case=False)\n",
    "df1['has_garage'] = condition.apply(lambda x: 't' if x else 'f')"
   ]
  },
  {
   "cell_type": "code",
   "execution_count": 20,
   "metadata": {},
   "outputs": [],
   "source": [
    "df1.loc[df1['tipology'] == 'chalet', 'has_garage'] = 't'"
   ]
  },
  {
   "cell_type": "code",
   "execution_count": 21,
   "metadata": {},
   "outputs": [],
   "source": [
    "keywords = ['piscina', 'tiene piscina', 'dispone de piscina']\n",
    "condition = df1['description'].str.contains('|'.join(keywords), case=False)\n",
    "df1['has_pool'] = np.where(condition, 't', 'f')"
   ]
  },
  {
   "cell_type": "code",
   "execution_count": 22,
   "metadata": {},
   "outputs": [],
   "source": [
    "condition = (df1['has_elevator'].isnull()) & (df1['description'].str.contains('con ascensor|tiene ascensor', case=False, na=False))\n",
    "df1.loc[condition, 'has_elevator'] = 't'\n",
    "condition = (df1['has_elevator'].isnull())\n",
    "df1.loc[condition, 'has_elevator'] = 'f'"
   ]
  },
  {
   "cell_type": "code",
   "execution_count": 23,
   "metadata": {},
   "outputs": [],
   "source": [
    "condition = (df1['is_exterior'].isnull()) & (df1['description'].str.contains('exterior|con terraza', case=False, na=False))\n",
    "df1.loc[condition, 'is_exterior'] = 't'\n",
    "condition = (df1['is_exterior'].isnull())\n",
    "df1.loc[condition, 'is_exterior'] = 'f'"
   ]
  },
  {
   "cell_type": "code",
   "execution_count": 24,
   "metadata": {},
   "outputs": [],
   "source": [
    "df1 = df1.drop([\"description\", \"title\", \"url\"], axis=1)"
   ]
  },
  {
   "cell_type": "code",
   "execution_count": 25,
   "metadata": {},
   "outputs": [],
   "source": [
    "df1.rename(columns={'replace': 'latitud', 'replace.1': 'longitud'}, inplace=True)"
   ]
  },
  {
   "cell_type": "code",
   "execution_count": 26,
   "metadata": {},
   "outputs": [
    {
     "data": {
      "text/html": [
       "<div>\n",
       "<style scoped>\n",
       "    .dataframe tbody tr th:only-of-type {\n",
       "        vertical-align: middle;\n",
       "    }\n",
       "\n",
       "    .dataframe tbody tr th {\n",
       "        vertical-align: top;\n",
       "    }\n",
       "\n",
       "    .dataframe thead th {\n",
       "        text-align: right;\n",
       "    }\n",
       "</style>\n",
       "<table border=\"1\" class=\"dataframe\">\n",
       "  <thead>\n",
       "    <tr style=\"text-align: right;\">\n",
       "      <th></th>\n",
       "      <th>area</th>\n",
       "      <th>local_price</th>\n",
       "      <th>latitud</th>\n",
       "      <th>longitud</th>\n",
       "      <th>tipology</th>\n",
       "      <th>n_rooms</th>\n",
       "      <th>n_baths</th>\n",
       "      <th>has_garage</th>\n",
       "      <th>has_pool</th>\n",
       "      <th>has_elevator</th>\n",
       "      <th>is_exterior</th>\n",
       "      <th>distrito</th>\n",
       "    </tr>\n",
       "  </thead>\n",
       "  <tbody>\n",
       "    <tr>\n",
       "      <th>0</th>\n",
       "      <td>135</td>\n",
       "      <td>3200</td>\n",
       "      <td>40.437687</td>\n",
       "      <td>-3.691055</td>\n",
       "      <td>Piso</td>\n",
       "      <td>1.0</td>\n",
       "      <td>2.0</td>\n",
       "      <td>f</td>\n",
       "      <td>f</td>\n",
       "      <td>t</td>\n",
       "      <td>t</td>\n",
       "      <td>Chamberí</td>\n",
       "    </tr>\n",
       "    <tr>\n",
       "      <th>1</th>\n",
       "      <td>250</td>\n",
       "      <td>6000</td>\n",
       "      <td>40.439434</td>\n",
       "      <td>-3.686233</td>\n",
       "      <td>Piso</td>\n",
       "      <td>4.0</td>\n",
       "      <td>4.0</td>\n",
       "      <td>t</td>\n",
       "      <td>t</td>\n",
       "      <td>t</td>\n",
       "      <td>t</td>\n",
       "      <td>Chamartín</td>\n",
       "    </tr>\n",
       "    <tr>\n",
       "      <th>2</th>\n",
       "      <td>146</td>\n",
       "      <td>2460</td>\n",
       "      <td>40.468037</td>\n",
       "      <td>-3.708661</td>\n",
       "      <td>Piso</td>\n",
       "      <td>3.0</td>\n",
       "      <td>2.0</td>\n",
       "      <td>t</td>\n",
       "      <td>t</td>\n",
       "      <td>t</td>\n",
       "      <td>t</td>\n",
       "      <td>Tetuán</td>\n",
       "    </tr>\n",
       "    <tr>\n",
       "      <th>3</th>\n",
       "      <td>98</td>\n",
       "      <td>3000</td>\n",
       "      <td>40.441212</td>\n",
       "      <td>-3.670406</td>\n",
       "      <td>Piso</td>\n",
       "      <td>3.0</td>\n",
       "      <td>3.0</td>\n",
       "      <td>f</td>\n",
       "      <td>f</td>\n",
       "      <td>f</td>\n",
       "      <td>t</td>\n",
       "      <td>Chamartín</td>\n",
       "    </tr>\n",
       "    <tr>\n",
       "      <th>4</th>\n",
       "      <td>125</td>\n",
       "      <td>3675</td>\n",
       "      <td>40.411247</td>\n",
       "      <td>-3.668222</td>\n",
       "      <td>Piso</td>\n",
       "      <td>3.0</td>\n",
       "      <td>2.0</td>\n",
       "      <td>t</td>\n",
       "      <td>t</td>\n",
       "      <td>t</td>\n",
       "      <td>t</td>\n",
       "      <td>Retiro</td>\n",
       "    </tr>\n",
       "    <tr>\n",
       "      <th>...</th>\n",
       "      <td>...</td>\n",
       "      <td>...</td>\n",
       "      <td>...</td>\n",
       "      <td>...</td>\n",
       "      <td>...</td>\n",
       "      <td>...</td>\n",
       "      <td>...</td>\n",
       "      <td>...</td>\n",
       "      <td>...</td>\n",
       "      <td>...</td>\n",
       "      <td>...</td>\n",
       "      <td>...</td>\n",
       "    </tr>\n",
       "    <tr>\n",
       "      <th>6357</th>\n",
       "      <td>45</td>\n",
       "      <td>1450</td>\n",
       "      <td>40.414158</td>\n",
       "      <td>-3.701161</td>\n",
       "      <td>Piso</td>\n",
       "      <td>2.0</td>\n",
       "      <td>1.0</td>\n",
       "      <td>f</td>\n",
       "      <td>f</td>\n",
       "      <td>f</td>\n",
       "      <td>f</td>\n",
       "      <td>Centro</td>\n",
       "    </tr>\n",
       "    <tr>\n",
       "      <th>6358</th>\n",
       "      <td>30</td>\n",
       "      <td>1250</td>\n",
       "      <td>40.425045</td>\n",
       "      <td>-3.705386</td>\n",
       "      <td>Piso</td>\n",
       "      <td>2.0</td>\n",
       "      <td>1.0</td>\n",
       "      <td>f</td>\n",
       "      <td>f</td>\n",
       "      <td>f</td>\n",
       "      <td>f</td>\n",
       "      <td>Centro</td>\n",
       "    </tr>\n",
       "    <tr>\n",
       "      <th>6359</th>\n",
       "      <td>73</td>\n",
       "      <td>900</td>\n",
       "      <td>40.392933</td>\n",
       "      <td>-3.736926</td>\n",
       "      <td>Piso</td>\n",
       "      <td>3.0</td>\n",
       "      <td>1.0</td>\n",
       "      <td>t</td>\n",
       "      <td>t</td>\n",
       "      <td>t</td>\n",
       "      <td>t</td>\n",
       "      <td>Carabanchel</td>\n",
       "    </tr>\n",
       "    <tr>\n",
       "      <th>6360</th>\n",
       "      <td>32</td>\n",
       "      <td>850</td>\n",
       "      <td>40.417221</td>\n",
       "      <td>-3.703297</td>\n",
       "      <td>Piso</td>\n",
       "      <td>0.0</td>\n",
       "      <td>1.0</td>\n",
       "      <td>f</td>\n",
       "      <td>f</td>\n",
       "      <td>t</td>\n",
       "      <td>t</td>\n",
       "      <td>Centro</td>\n",
       "    </tr>\n",
       "    <tr>\n",
       "      <th>6361</th>\n",
       "      <td>55</td>\n",
       "      <td>2590</td>\n",
       "      <td>40.425976</td>\n",
       "      <td>-3.713353</td>\n",
       "      <td>Piso</td>\n",
       "      <td>1.0</td>\n",
       "      <td>1.0</td>\n",
       "      <td>f</td>\n",
       "      <td>t</td>\n",
       "      <td>t</td>\n",
       "      <td>t</td>\n",
       "      <td>Moncloa-Aravaca</td>\n",
       "    </tr>\n",
       "  </tbody>\n",
       "</table>\n",
       "<p>6330 rows × 12 columns</p>\n",
       "</div>"
      ],
      "text/plain": [
       "      area  local_price    latitud  longitud tipology  n_rooms  n_baths  \\\n",
       "0      135         3200  40.437687 -3.691055     Piso      1.0      2.0   \n",
       "1      250         6000  40.439434 -3.686233     Piso      4.0      4.0   \n",
       "2      146         2460  40.468037 -3.708661     Piso      3.0      2.0   \n",
       "3       98         3000  40.441212 -3.670406     Piso      3.0      3.0   \n",
       "4      125         3675  40.411247 -3.668222     Piso      3.0      2.0   \n",
       "...    ...          ...        ...       ...      ...      ...      ...   \n",
       "6357    45         1450  40.414158 -3.701161     Piso      2.0      1.0   \n",
       "6358    30         1250  40.425045 -3.705386     Piso      2.0      1.0   \n",
       "6359    73          900  40.392933 -3.736926     Piso      3.0      1.0   \n",
       "6360    32          850  40.417221 -3.703297     Piso      0.0      1.0   \n",
       "6361    55         2590  40.425976 -3.713353     Piso      1.0      1.0   \n",
       "\n",
       "     has_garage has_pool has_elevator is_exterior         distrito  \n",
       "0             f        f            t           t         Chamberí  \n",
       "1             t        t            t           t        Chamartín  \n",
       "2             t        t            t           t           Tetuán  \n",
       "3             f        f            f           t        Chamartín  \n",
       "4             t        t            t           t           Retiro  \n",
       "...         ...      ...          ...         ...              ...  \n",
       "6357          f        f            f           f           Centro  \n",
       "6358          f        f            f           f           Centro  \n",
       "6359          t        t            t           t      Carabanchel  \n",
       "6360          f        f            t           t           Centro  \n",
       "6361          f        t            t           t  Moncloa-Aravaca  \n",
       "\n",
       "[6330 rows x 12 columns]"
      ]
     },
     "execution_count": 26,
     "metadata": {},
     "output_type": "execute_result"
    }
   ],
   "source": [
    "df1"
   ]
  },
  {
   "cell_type": "code",
   "execution_count": 27,
   "metadata": {},
   "outputs": [
    {
     "name": "stdout",
     "output_type": "stream",
     "text": [
      "El archivo CSV se ha guardado en: C:\\Users\\axa\\THE BRIDGE_23\\SEMANA 25. DESAFIO TRIPULACIONES\\dflimpiohalloween.csv\n"
     ]
    }
   ],
   "source": [
    "import os\n",
    "carpeta_mis_documentos = r\"C:\\Users\\axa\\THE BRIDGE_23\\SEMANA 25. DESAFIO TRIPULACIONES\"\n",
    "if not os.path.exists(carpeta_mis_documentos):\n",
    "    os.makedirs(carpeta_mis_documentos)\n",
    "ruta_guardado = os.path.join(carpeta_mis_documentos, \"dflimpiohalloween.csv\")\n",
    "df1.to_csv(ruta_guardado, index=False)\n",
    "print(f\"El archivo CSV se ha guardado en: {ruta_guardado}\")"
   ]
  },
  {
   "cell_type": "markdown",
   "metadata": {},
   "source": [
    "# Transformaciones"
   ]
  },
  {
   "cell_type": "code",
   "execution_count": 28,
   "metadata": {},
   "outputs": [],
   "source": [
    "le = LabelEncoder()\n",
    "df1['tipology'] = le.fit_transform(df1['tipology'])"
   ]
  },
  {
   "cell_type": "code",
   "execution_count": 29,
   "metadata": {},
   "outputs": [],
   "source": [
    "le = LabelEncoder()\n",
    "df1['has_garage'] = le.fit_transform(df1['has_garage'])"
   ]
  },
  {
   "cell_type": "code",
   "execution_count": 30,
   "metadata": {},
   "outputs": [],
   "source": [
    "le = LabelEncoder()\n",
    "df1['has_pool'] = le.fit_transform(df1['has_pool'])"
   ]
  },
  {
   "cell_type": "code",
   "execution_count": 31,
   "metadata": {},
   "outputs": [],
   "source": [
    "le = LabelEncoder()\n",
    "df1['has_elevator'] = le.fit_transform(df1['has_elevator'])"
   ]
  },
  {
   "cell_type": "code",
   "execution_count": 32,
   "metadata": {},
   "outputs": [],
   "source": [
    "le = LabelEncoder()\n",
    "df1['is_exterior'] = le.fit_transform(df1['is_exterior'])"
   ]
  },
  {
   "cell_type": "markdown",
   "metadata": {},
   "source": [
    "# EDA"
   ]
  },
  {
   "cell_type": "code",
   "execution_count": 33,
   "metadata": {},
   "outputs": [
    {
     "name": "stdout",
     "output_type": "stream",
     "text": [
      "<class 'pandas.core.frame.DataFrame'>\n",
      "Index: 6330 entries, 0 to 6361\n",
      "Data columns (total 12 columns):\n",
      " #   Column        Non-Null Count  Dtype  \n",
      "---  ------        --------------  -----  \n",
      " 0   area          6330 non-null   int64  \n",
      " 1   local_price   6330 non-null   int64  \n",
      " 2   latitud       6330 non-null   float64\n",
      " 3   longitud      6330 non-null   float64\n",
      " 4   tipology      6330 non-null   int32  \n",
      " 5   n_rooms       6330 non-null   float64\n",
      " 6   n_baths       6330 non-null   float64\n",
      " 7   has_garage    6330 non-null   int32  \n",
      " 8   has_pool      6330 non-null   int32  \n",
      " 9   has_elevator  6330 non-null   int32  \n",
      " 10  is_exterior   6330 non-null   int32  \n",
      " 11  distrito      6330 non-null   object \n",
      "dtypes: float64(4), int32(5), int64(2), object(1)\n",
      "memory usage: 519.3+ KB\n"
     ]
    }
   ],
   "source": [
    "df1.info()"
   ]
  },
  {
   "cell_type": "code",
   "execution_count": 34,
   "metadata": {},
   "outputs": [
    {
     "data": {
      "text/html": [
       "<div>\n",
       "<style scoped>\n",
       "    .dataframe tbody tr th:only-of-type {\n",
       "        vertical-align: middle;\n",
       "    }\n",
       "\n",
       "    .dataframe tbody tr th {\n",
       "        vertical-align: top;\n",
       "    }\n",
       "\n",
       "    .dataframe thead th {\n",
       "        text-align: right;\n",
       "    }\n",
       "</style>\n",
       "<table border=\"1\" class=\"dataframe\">\n",
       "  <thead>\n",
       "    <tr style=\"text-align: right;\">\n",
       "      <th></th>\n",
       "      <th>area</th>\n",
       "      <th>local_price</th>\n",
       "      <th>latitud</th>\n",
       "      <th>longitud</th>\n",
       "      <th>tipology</th>\n",
       "      <th>n_rooms</th>\n",
       "      <th>n_baths</th>\n",
       "      <th>has_garage</th>\n",
       "      <th>has_pool</th>\n",
       "      <th>has_elevator</th>\n",
       "      <th>is_exterior</th>\n",
       "    </tr>\n",
       "  </thead>\n",
       "  <tbody>\n",
       "    <tr>\n",
       "      <th>count</th>\n",
       "      <td>6330.000000</td>\n",
       "      <td>6330.000000</td>\n",
       "      <td>6330.000000</td>\n",
       "      <td>6330.000000</td>\n",
       "      <td>6330.000000</td>\n",
       "      <td>6330.000000</td>\n",
       "      <td>6330.000000</td>\n",
       "      <td>6330.000000</td>\n",
       "      <td>6330.000000</td>\n",
       "      <td>6330.000000</td>\n",
       "      <td>6330.000000</td>\n",
       "    </tr>\n",
       "    <tr>\n",
       "      <th>mean</th>\n",
       "      <td>107.489258</td>\n",
       "      <td>2309.824013</td>\n",
       "      <td>40.431495</td>\n",
       "      <td>-3.686762</td>\n",
       "      <td>0.977883</td>\n",
       "      <td>2.180569</td>\n",
       "      <td>1.775987</td>\n",
       "      <td>0.322907</td>\n",
       "      <td>0.234439</td>\n",
       "      <td>0.808847</td>\n",
       "      <td>0.841706</td>\n",
       "    </tr>\n",
       "    <tr>\n",
       "      <th>std</th>\n",
       "      <td>76.212949</td>\n",
       "      <td>1727.071316</td>\n",
       "      <td>0.029298</td>\n",
       "      <td>0.033224</td>\n",
       "      <td>0.147075</td>\n",
       "      <td>1.200319</td>\n",
       "      <td>1.009541</td>\n",
       "      <td>0.467624</td>\n",
       "      <td>0.423681</td>\n",
       "      <td>0.393241</td>\n",
       "      <td>0.365045</td>\n",
       "    </tr>\n",
       "    <tr>\n",
       "      <th>min</th>\n",
       "      <td>17.000000</td>\n",
       "      <td>400.000000</td>\n",
       "      <td>40.332451</td>\n",
       "      <td>-3.832705</td>\n",
       "      <td>0.000000</td>\n",
       "      <td>0.000000</td>\n",
       "      <td>1.000000</td>\n",
       "      <td>0.000000</td>\n",
       "      <td>0.000000</td>\n",
       "      <td>0.000000</td>\n",
       "      <td>0.000000</td>\n",
       "    </tr>\n",
       "    <tr>\n",
       "      <th>25%</th>\n",
       "      <td>60.000000</td>\n",
       "      <td>1200.000000</td>\n",
       "      <td>40.414404</td>\n",
       "      <td>-3.704209</td>\n",
       "      <td>1.000000</td>\n",
       "      <td>1.000000</td>\n",
       "      <td>1.000000</td>\n",
       "      <td>0.000000</td>\n",
       "      <td>0.000000</td>\n",
       "      <td>1.000000</td>\n",
       "      <td>1.000000</td>\n",
       "    </tr>\n",
       "    <tr>\n",
       "      <th>50%</th>\n",
       "      <td>85.000000</td>\n",
       "      <td>1800.000000</td>\n",
       "      <td>40.429073</td>\n",
       "      <td>-3.691760</td>\n",
       "      <td>1.000000</td>\n",
       "      <td>2.000000</td>\n",
       "      <td>2.000000</td>\n",
       "      <td>0.000000</td>\n",
       "      <td>0.000000</td>\n",
       "      <td>1.000000</td>\n",
       "      <td>1.000000</td>\n",
       "    </tr>\n",
       "    <tr>\n",
       "      <th>75%</th>\n",
       "      <td>130.000000</td>\n",
       "      <td>2850.000000</td>\n",
       "      <td>40.450004</td>\n",
       "      <td>-3.674365</td>\n",
       "      <td>1.000000</td>\n",
       "      <td>3.000000</td>\n",
       "      <td>2.000000</td>\n",
       "      <td>1.000000</td>\n",
       "      <td>0.000000</td>\n",
       "      <td>1.000000</td>\n",
       "      <td>1.000000</td>\n",
       "    </tr>\n",
       "    <tr>\n",
       "      <th>max</th>\n",
       "      <td>600.000000</td>\n",
       "      <td>20000.000000</td>\n",
       "      <td>40.520374</td>\n",
       "      <td>-3.528354</td>\n",
       "      <td>1.000000</td>\n",
       "      <td>8.000000</td>\n",
       "      <td>8.000000</td>\n",
       "      <td>1.000000</td>\n",
       "      <td>1.000000</td>\n",
       "      <td>1.000000</td>\n",
       "      <td>1.000000</td>\n",
       "    </tr>\n",
       "  </tbody>\n",
       "</table>\n",
       "</div>"
      ],
      "text/plain": [
       "              area   local_price      latitud     longitud     tipology  \\\n",
       "count  6330.000000   6330.000000  6330.000000  6330.000000  6330.000000   \n",
       "mean    107.489258   2309.824013    40.431495    -3.686762     0.977883   \n",
       "std      76.212949   1727.071316     0.029298     0.033224     0.147075   \n",
       "min      17.000000    400.000000    40.332451    -3.832705     0.000000   \n",
       "25%      60.000000   1200.000000    40.414404    -3.704209     1.000000   \n",
       "50%      85.000000   1800.000000    40.429073    -3.691760     1.000000   \n",
       "75%     130.000000   2850.000000    40.450004    -3.674365     1.000000   \n",
       "max     600.000000  20000.000000    40.520374    -3.528354     1.000000   \n",
       "\n",
       "           n_rooms      n_baths   has_garage     has_pool  has_elevator  \\\n",
       "count  6330.000000  6330.000000  6330.000000  6330.000000   6330.000000   \n",
       "mean      2.180569     1.775987     0.322907     0.234439      0.808847   \n",
       "std       1.200319     1.009541     0.467624     0.423681      0.393241   \n",
       "min       0.000000     1.000000     0.000000     0.000000      0.000000   \n",
       "25%       1.000000     1.000000     0.000000     0.000000      1.000000   \n",
       "50%       2.000000     2.000000     0.000000     0.000000      1.000000   \n",
       "75%       3.000000     2.000000     1.000000     0.000000      1.000000   \n",
       "max       8.000000     8.000000     1.000000     1.000000      1.000000   \n",
       "\n",
       "       is_exterior  \n",
       "count  6330.000000  \n",
       "mean      0.841706  \n",
       "std       0.365045  \n",
       "min       0.000000  \n",
       "25%       1.000000  \n",
       "50%       1.000000  \n",
       "75%       1.000000  \n",
       "max       1.000000  "
      ]
     },
     "execution_count": 34,
     "metadata": {},
     "output_type": "execute_result"
    }
   ],
   "source": [
    "df1.describe()"
   ]
  },
  {
   "cell_type": "markdown",
   "metadata": {},
   "source": [
    "# Variable: \"area\""
   ]
  },
  {
   "cell_type": "code",
   "execution_count": 35,
   "metadata": {},
   "outputs": [
    {
     "name": "stdout",
     "output_type": "stream",
     "text": [
      "Valores únicos: [17, 18, 20, 21, 22, 23, 24, 25, 26, 27, 28, 29, 30, 31, 32, 33, 34, 35, 36, 37, 38, 39, 40, 41, 42, 43, 44, 45, 46, 47, 48, 49, 50, 51, 52, 53, 54, 55, 56, 57, 58, 59, 60, 61, 62, 63, 64, 65, 66, 67, 68, 69, 70, 71, 72, 73, 74, 75, 76, 77, 78, 79, 80, 81, 82, 83, 84, 85, 86, 87, 88, 89, 90, 91, 92, 93, 94, 95, 96, 97, 98, 99, 100, 101, 102, 103, 104, 105, 106, 107, 108, 109, 110, 111, 112, 113, 114, 115, 116, 117, 118, 119, 120, 121, 122, 123, 124, 125, 126, 127, 128, 129, 130, 131, 132, 133, 134, 135, 136, 137, 138, 139, 140, 141, 142, 143, 144, 145, 146, 147, 148, 149, 150, 151, 152, 153, 154, 155, 156, 157, 158, 159, 160, 161, 162, 163, 164, 165, 166, 167, 168, 169, 170, 171, 172, 173, 174, 175, 176, 177, 178, 179, 180, 181, 182, 183, 184, 185, 186, 187, 188, 189, 190, 191, 192, 193, 194, 195, 196, 197, 198, 199, 200, 201, 202, 203, 204, 205, 206, 207, 208, 209, 210, 211, 213, 214, 215, 217, 218, 219, 220, 221, 222, 223, 224, 225, 227, 228, 229, 230, 231, 232, 233, 234, 235, 236, 237, 238, 239, 240, 241, 242, 243, 244, 245, 246, 247, 248, 249, 250, 252, 254, 255, 257, 258, 259, 260, 264, 265, 268, 269, 270, 274, 275, 276, 277, 279, 280, 281, 283, 285, 286, 290, 292, 296, 297, 298, 300, 302, 304, 305, 307, 309, 310, 313, 314, 315, 317, 318, 319, 320, 321, 322, 323, 324, 329, 330, 331, 333, 334, 336, 337, 338, 340, 342, 343, 344, 345, 350, 352, 355, 356, 357, 359, 360, 363, 364, 365, 366, 367, 370, 373, 375, 379, 380, 384, 387, 388, 394, 395, 396, 397, 400, 402, 410, 412, 413, 414, 415, 417, 418, 420, 425, 428, 429, 430, 434, 437, 438, 440, 444, 446, 447, 448, 450, 460, 461, 462, 470, 471, 480, 482, 483, 494, 498, 500, 516, 524, 525, 535, 542, 550, 558, 570, 600]\n",
      "Cantidad de valores únicos en la columna 'area': 355\n",
      "area\n",
      "50     262\n",
      "60     242\n",
      "70     208\n",
      "55     207\n",
      "90     190\n",
      "      ... \n",
      "244      1\n",
      "415      1\n",
      "237      1\n",
      "471      1\n",
      "444      1\n",
      "Name: count, Length: 355, dtype: int64\n"
     ]
    }
   ],
   "source": [
    "unique_values = df1['area'].unique()\n",
    "unique_values = sorted(unique_values)\n",
    "unique_values_count = df1['area'].nunique()\n",
    "area_counts = df1['area'].value_counts()\n",
    "\n",
    "print(\"Valores únicos:\", unique_values)\n",
    "print(\"Cantidad de valores únicos en la columna 'area':\", unique_values_count)\n",
    "print(area_counts)"
   ]
  },
  {
   "cell_type": "code",
   "execution_count": 36,
   "metadata": {},
   "outputs": [
    {
     "data": {
      "image/png": "[encoded data removed]",
      "text/plain": [
       "<Figure size 2000x600 with 1 Axes>"
      ]
     },
     "metadata": {},
     "output_type": "display_data"
    }
   ],
   "source": [
    "df_areas_hasta_100 = df1[df1['area'] <= 100]\n",
    "frecuencia_areas = df_areas_hasta_100['area'].value_counts().sort_index()\n",
    "plt.figure(figsize=(20, 6))\n",
    "plt.bar(frecuencia_areas.index, frecuencia_areas.values, color='green')\n",
    "plt.xlabel('Área (m²)')\n",
    "plt.ylabel('Frecuencia')\n",
    "plt.title('Distribución de Áreas hasta 100m²')\n",
    "plt.xticks(range(101), rotation=90)\n",
    "plt.show()"
   ]
  },
  {
   "cell_type": "markdown",
   "metadata": {},
   "source": [
    "# Variable: \"local_price\""
   ]
  },
  {
   "cell_type": "code",
   "execution_count": 37,
   "metadata": {},
   "outputs": [
    {
     "name": "stdout",
     "output_type": "stream",
     "text": [
      "Valores únicos: [400, 490, 499, 500, 530, 549, 550, 575, 580, 590, 595, 600, 608, 620, 625, 630, 645, 649, 650, 665, 670, 675, 680, 690, 695, 699, 700, 710, 720, 725, 730, 740, 749, 750, 752, 760, 761, 764, 765, 768, 770, 775, 780, 785, 790, 795, 799, 800, 805, 810, 811, 820, 825, 829, 830, 840, 845, 849, 850, 853, 855, 860, 870, 874, 875, 877, 880, 883, 890, 895, 899, 900, 904, 906, 910, 915, 917, 920, 925, 930, 935, 937, 940, 941, 945, 947, 950, 955, 960, 966, 970, 975, 980, 982, 984, 985, 990, 995, 999, 1000, 1004, 1005, 1010, 1015, 1020, 1025, 1030, 1035, 1040, 1045, 1050, 1060, 1065, 1066, 1070, 1075, 1080, 1085, 1090, 1095, 1100, 1107, 1108, 1110, 1120, 1122, 1125, 1130, 1134, 1135, 1145, 1149, 1150, 1160, 1165, 1170, 1175, 1180, 1185, 1190, 1194, 1195, 1199, 1200, 1210, 1220, 1221, 1225, 1230, 1235, 1240, 1245, 1249, 1250, 1252, 1260, 1261, 1265, 1270, 1275, 1280, 1285, 1289, 1290, 1295, 1299, 1300, 1310, 1320, 1325, 1329, 1347, 1350, 1351, 1357, 1360, 1365, 1370, 1375, 1377, 1380, 1382, 1390, 1392, 1393, 1395, 1399, 1400, 1402, 1405, 1408, 1415, 1420, 1421, 1424, 1425, 1426, 1430, 1431, 1435, 1437, 1442, 1445, 1450, 1455, 1460, 1463, 1465, 1467, 1468, 1470, 1473, 1475, 1477, 1480, 1483, 1485, 1488, 1490, 1493, 1495, 1497, 1499, 1500, 1503, 1513, 1515, 1517, 1520, 1523, 1525, 1528, 1529, 1530, 1533, 1538, 1550, 1560, 1567, 1570, 1573, 1575, 1576, 1580, 1585, 1590, 1593, 1597, 1598, 1600, 1605, 1612, 1615, 1617, 1620, 1625, 1627, 1628, 1632, 1633, 1637, 1640, 1646, 1650, 1651, 1652, 1655, 1658, 1660, 1667, 1675, 1680, 1682, 1683, 1685, 1690, 1700, 1701, 1710, 1714, 1725, 1735, 1740, 1741, 1750, 1755, 1760, 1765, 1770, 1775, 1780, 1782, 1785, 1790, 1795, 1799, 1800, 1810, 1815, 1820, 1825, 1839, 1840, 1850, 1853, 1855, 1863, 1870, 1875, 1879, 1883, 1890, 1894, 1895, 1899, 1900, 1903, 1905, 1910, 1913, 1917, 1918, 1925, 1930, 1933, 1935, 1937, 1950, 1955, 1960, 1970, 1975, 1990, 1991, 1995, 1999, 2000, 2001, 2010, 2017, 2022, 2025, 2027, 2028, 2030, 2035, 2037, 2040, 2045, 2050, 2052, 2062, 2065, 2067, 2075, 2079, 2080, 2082, 2084, 2090, 2095, 2097, 2100, 2106, 2109, 2111, 2140, 2150, 2152, 2159, 2160, 2169, 2170, 2189, 2190, 2191, 2192, 2195, 2200, 2202, 2211, 2220, 2233, 2240, 2245, 2250, 2251, 2255, 2260, 2270, 2277, 2278, 2280, 2286, 2291, 2294, 2295, 2300, 2303, 2310, 2318, 2319, 2323, 2328, 2330, 2333, 2338, 2340, 2344, 2346, 2350, 2353, 2355, 2360, 2365, 2368, 2369, 2370, 2380, 2390, 2396, 2400, 2410, 2413, 2414, 2422, 2429, 2430, 2440, 2441, 2450, 2452, 2457, 2460, 2467, 2472, 2475, 2482, 2485, 2486, 2487, 2490, 2495, 2499, 2500, 2510, 2517, 2520, 2525, 2530, 2538, 2550, 2560, 2565, 2568, 2570, 2575, 2580, 2589, 2590, 2600, 2609, 2620, 2625, 2640, 2650, 2655, 2660, 2670, 2675, 2690, 2695, 2700, 2710, 2715, 2720, 2733, 2745, 2746, 2750, 2753, 2760, 2763, 2768, 2775, 2780, 2783, 2790, 2793, 2795, 2800, 2805, 2820, 2824, 2835, 2850, 2855, 2862, 2875, 2880, 2890, 2900, 2910, 2920, 2930, 2940, 2943, 2945, 2950, 2970, 2975, 2980, 2990, 2995, 2998, 2999, 3000, 3030, 3040, 3043, 3045, 3050, 3070, 3080, 3090, 3100, 3105, 3120, 3128, 3144, 3150, 3153, 3163, 3185, 3190, 3200, 3203, 3220, 3230, 3240, 3250, 3260, 3280, 3295, 3300, 3350, 3372, 3375, 3380, 3390, 3392, 3400, 3420, 3425, 3433, 3435, 3450, 3490, 3495, 3500, 3510, 3520, 3550, 3555, 3560, 3593, 3594, 3595, 3600, 3610, 3620, 3630, 3645, 3650, 3675, 3680, 3695, 3700, 3715, 3750, 3780, 3795, 3799, 3800, 3844, 3850, 3858, 3900, 3910, 3915, 3940, 3950, 3960, 3980, 3990, 3995, 4000, 4050, 4080, 4085, 4100, 4120, 4140, 4150, 4153, 4175, 4185, 4195, 4200, 4250, 4275, 4300, 4320, 4335, 4350, 4399, 4400, 4410, 4450, 4499, 4500, 4530, 4550, 4590, 4600, 4620, 4650, 4700, 4725, 4745, 4750, 4799, 4800, 4835, 4850, 4860, 4895, 4900, 4950, 4995, 5000, 5070, 5100, 5130, 5144, 5200, 5250, 5265, 5300, 5319, 5355, 5400, 5450, 5460, 5495, 5500, 5600, 5700, 5800, 5850, 5900, 5940, 6000, 6075, 6200, 6210, 6214, 6240, 6250, 6300, 6400, 6480, 6500, 6600, 6660, 6750, 6800, 6850, 6900, 6950, 7000, 7050, 7109, 7110, 7125, 7200, 7209, 7290, 7300, 7380, 7400, 7410, 7500, 7560, 7650, 7695, 7800, 7935, 8000, 8370, 8500, 8550, 8600, 8640, 8700, 8790, 8800, 8900, 8950, 9000, 9450, 9500, 9600, 9800, 9810, 9855, 9900, 9950, 10000, 10600, 10800, 10950, 12000, 12500, 12900, 13000, 13065, 13500, 14000, 14500, 15000, 20000]\n",
      "Cantidad de valores únicos en la columna 'local_price': 732\n",
      "local_price\n",
      "1200    209\n",
      "1500    190\n",
      "1300    182\n",
      "1400    154\n",
      "2500    152\n",
      "       ... \n",
      "1655      1\n",
      "2365      1\n",
      "1513      1\n",
      "710       1\n",
      "1455      1\n",
      "Name: count, Length: 732, dtype: int64\n"
     ]
    }
   ],
   "source": [
    "unique_values = df1['local_price'].unique()\n",
    "unique_values = sorted(unique_values)\n",
    "unique_values_count = df1['local_price'].nunique()\n",
    "local_price_counts = df1['local_price'].value_counts()\n",
    "\n",
    "print(\"Valores únicos:\", unique_values)\n",
    "print(\"Cantidad de valores únicos en la columna 'local_price':\", unique_values_count)\n",
    "print(local_price_counts)"
   ]
  },
  {
   "cell_type": "code",
   "execution_count": 38,
   "metadata": {},
   "outputs": [
    {
     "data": {
      "text/html": [
       "<div>\n",
       "<style scoped>\n",
       "    .dataframe tbody tr th:only-of-type {\n",
       "        vertical-align: middle;\n",
       "    }\n",
       "\n",
       "    .dataframe tbody tr th {\n",
       "        vertical-align: top;\n",
       "    }\n",
       "\n",
       "    .dataframe thead th {\n",
       "        text-align: right;\n",
       "    }\n",
       "</style>\n",
       "<table border=\"1\" class=\"dataframe\">\n",
       "  <thead>\n",
       "    <tr style=\"text-align: right;\">\n",
       "      <th></th>\n",
       "      <th>area</th>\n",
       "      <th>local_price</th>\n",
       "      <th>latitud</th>\n",
       "      <th>longitud</th>\n",
       "      <th>tipology</th>\n",
       "      <th>n_rooms</th>\n",
       "      <th>n_baths</th>\n",
       "      <th>has_garage</th>\n",
       "      <th>has_pool</th>\n",
       "      <th>has_elevator</th>\n",
       "      <th>is_exterior</th>\n",
       "      <th>distrito</th>\n",
       "    </tr>\n",
       "  </thead>\n",
       "  <tbody>\n",
       "    <tr>\n",
       "      <th>5084</th>\n",
       "      <td>462</td>\n",
       "      <td>20000</td>\n",
       "      <td>40.437447</td>\n",
       "      <td>-3.690439</td>\n",
       "      <td>1</td>\n",
       "      <td>4.0</td>\n",
       "      <td>5.0</td>\n",
       "      <td>1</td>\n",
       "      <td>0</td>\n",
       "      <td>1</td>\n",
       "      <td>1</td>\n",
       "      <td>Chamberí</td>\n",
       "    </tr>\n",
       "    <tr>\n",
       "      <th>5087</th>\n",
       "      <td>277</td>\n",
       "      <td>20000</td>\n",
       "      <td>40.434418</td>\n",
       "      <td>-3.687745</td>\n",
       "      <td>1</td>\n",
       "      <td>4.0</td>\n",
       "      <td>5.0</td>\n",
       "      <td>1</td>\n",
       "      <td>0</td>\n",
       "      <td>1</td>\n",
       "      <td>1</td>\n",
       "      <td>Salamanca</td>\n",
       "    </tr>\n",
       "  </tbody>\n",
       "</table>\n",
       "</div>"
      ],
      "text/plain": [
       "      area  local_price    latitud  longitud  tipology  n_rooms  n_baths  \\\n",
       "5084   462        20000  40.437447 -3.690439         1      4.0      5.0   \n",
       "5087   277        20000  40.434418 -3.687745         1      4.0      5.0   \n",
       "\n",
       "      has_garage  has_pool  has_elevator  is_exterior   distrito  \n",
       "5084           1         0             1            1   Chamberí  \n",
       "5087           1         0             1            1  Salamanca  "
      ]
     },
     "execution_count": 38,
     "metadata": {},
     "output_type": "execute_result"
    }
   ],
   "source": [
    "df1[df1['local_price'] == 20000]\n"
   ]
  },
  {
   "cell_type": "code",
   "execution_count": 39,
   "metadata": {},
   "outputs": [
    {
     "data": {
      "image/png": "[encoded data removed]",
      "text/plain": [
       "<Figure size 2000x600 with 1 Axes>"
      ]
     },
     "metadata": {},
     "output_type": "display_data"
    }
   ],
   "source": [
    "import matplotlib.pyplot as plt\n",
    "local_prices_filtered = df1[df1['local_price'] <= 5000]['local_price']\n",
    "plt.figure(figsize=(20, 6))\n",
    "plt.hist(local_prices_filtered, bins=200, color='blue', alpha=0.7)\n",
    "x_ticks = [500, 600, 700, 800, 900, 1000, 1100, 1200, 1300, 1400, 1500, 1600, 1700, 1800, 1900, 2000, 2100, 2200, 2300, 2400, 2500, 3000, 3500, 4000, 4500, 5000]\n",
    "x_labels = [str(x) for x in x_ticks]\n",
    "plt.xticks(x_ticks, x_labels, rotation=90)\n",
    "plt.xlabel('Precio de Alquiler')\n",
    "plt.ylabel('Frecuencia')\n",
    "plt.title('Histograma de Precios de Alquiler')\n",
    "plt.show()"
   ]
  },
  {
   "cell_type": "code",
   "execution_count": 40,
   "metadata": {},
   "outputs": [
    {
     "data": {
      "text/html": [
       "<div>\n",
       "<style scoped>\n",
       "    .dataframe tbody tr th:only-of-type {\n",
       "        vertical-align: middle;\n",
       "    }\n",
       "\n",
       "    .dataframe tbody tr th {\n",
       "        vertical-align: top;\n",
       "    }\n",
       "\n",
       "    .dataframe thead th {\n",
       "        text-align: right;\n",
       "    }\n",
       "</style>\n",
       "<table border=\"1\" class=\"dataframe\">\n",
       "  <thead>\n",
       "    <tr style=\"text-align: right;\">\n",
       "      <th></th>\n",
       "      <th>area</th>\n",
       "      <th>local_price</th>\n",
       "      <th>latitud</th>\n",
       "      <th>longitud</th>\n",
       "      <th>tipology</th>\n",
       "      <th>n_rooms</th>\n",
       "      <th>n_baths</th>\n",
       "      <th>has_garage</th>\n",
       "      <th>has_pool</th>\n",
       "      <th>has_elevator</th>\n",
       "      <th>is_exterior</th>\n",
       "      <th>distrito</th>\n",
       "    </tr>\n",
       "  </thead>\n",
       "  <tbody>\n",
       "  </tbody>\n",
       "</table>\n",
       "</div>"
      ],
      "text/plain": [
       "Empty DataFrame\n",
       "Columns: [area, local_price, latitud, longitud, tipology, n_rooms, n_baths, has_garage, has_pool, has_elevator, is_exterior, distrito]\n",
       "Index: []"
      ]
     },
     "execution_count": 40,
     "metadata": {},
     "output_type": "execute_result"
    }
   ],
   "source": [
    "df1[df1['local_price'] == 0]"
   ]
  },
  {
   "cell_type": "markdown",
   "metadata": {},
   "source": [
    "# Variable: \"tipology\"... (chalet / piso)"
   ]
  },
  {
   "cell_type": "code",
   "execution_count": 41,
   "metadata": {},
   "outputs": [
    {
     "name": "stdout",
     "output_type": "stream",
     "text": [
      "Valores únicos: [0, 1]\n",
      "Cantidad de valores únicos en la columna 'tipology': 2\n",
      "tipology\n",
      "1    6190\n",
      "0     140\n",
      "Name: count, dtype: int64\n"
     ]
    }
   ],
   "source": [
    "unique_values = df1['tipology'].unique()\n",
    "unique_values = sorted(unique_values)\n",
    "unique_values_count = df1['tipology'].nunique()\n",
    "tipology_counts = df1['tipology'].value_counts()\n",
    "\n",
    "print(\"Valores únicos:\", unique_values)\n",
    "print(\"Cantidad de valores únicos en la columna 'tipology':\", unique_values_count)\n",
    "print(tipology_counts)"
   ]
  },
  {
   "cell_type": "code",
   "execution_count": 42,
   "metadata": {},
   "outputs": [
    {
     "data": {
      "image/png": "[encoded data removed]",
      "text/plain": [
       "<Figure size 500x500 with 1 Axes>"
      ]
     },
     "metadata": {},
     "output_type": "display_data"
    }
   ],
   "source": [
    "count_tipology = df1['tipology'].value_counts()\n",
    "labels = ['Piso (1)', 'Chalet (0)']\n",
    "colors = ['cyan', 'green']\n",
    "count_records = [6190, 140]\n",
    "explode = (0, 0.3)\n",
    "plt.figure(figsize=(5, 5))\n",
    "_, texts, _ = plt.pie(count_tipology, labels=labels, colors=colors, autopct='%1.1f%%', startangle=140, explode=explode)\n",
    "for i, text in enumerate(texts):\n",
    "    text.set_text(f\"{labels[i]}\\n({count_records[i]} registros)\")\n",
    "plt.title('Distribución de la variable: tipology')\n",
    "plt.axis('equal')\n",
    "plt.show()"
   ]
  },
  {
   "cell_type": "markdown",
   "metadata": {},
   "source": [
    "# Variable: \"n_rooms\""
   ]
  },
  {
   "cell_type": "code",
   "execution_count": 43,
   "metadata": {},
   "outputs": [
    {
     "name": "stdout",
     "output_type": "stream",
     "text": [
      "Valores únicos: [0.0, 1.0, 2.0, 3.0, 4.0, 5.0, 6.0, 7.0, 8.0]\n",
      "Cantidad de valores únicos en la columna 'n_rooms': 9\n",
      "n_rooms\n",
      "2.0    2078\n",
      "1.0    1729\n",
      "3.0    1434\n",
      "4.0     584\n",
      "0.0     265\n",
      "5.0     179\n",
      "6.0      46\n",
      "7.0      11\n",
      "8.0       4\n",
      "Name: count, dtype: int64\n"
     ]
    }
   ],
   "source": [
    "unique_values = df1['n_rooms'].unique()\n",
    "unique_values = sorted(unique_values)\n",
    "unique_values_count = df1['n_rooms'].nunique()\n",
    "n_rooms_counts = df1['n_rooms'].value_counts()\n",
    "\n",
    "print(\"Valores únicos:\", unique_values)\n",
    "print(\"Cantidad de valores únicos en la columna 'n_rooms':\", unique_values_count)\n",
    "print(n_rooms_counts)"
   ]
  },
  {
   "cell_type": "code",
   "execution_count": 44,
   "metadata": {},
   "outputs": [
    {
     "data": {
      "image/png": "[encoded data removed]",
      "text/plain": [
       "<Figure size 1000x600 with 1 Axes>"
      ]
     },
     "metadata": {},
     "output_type": "display_data"
    }
   ],
   "source": [
    "valores_x = [0.0, 1.0, 2.0, 3.0, 4.0, 5.0, 6.0, 7.0, 8.0]\n",
    "frecuencia_n_rooms = df1['n_rooms'].value_counts().sort_index()\n",
    "plt.figure(figsize=(10, 6))\n",
    "plt.bar(frecuencia_n_rooms.index, frecuencia_n_rooms.values, color='blue')\n",
    "plt.xlabel('Número de Habitaciones (n_rooms)')\n",
    "plt.ylabel('Frecuencia')\n",
    "plt.title('Distribución de Número de Habitaciones')\n",
    "plt.xticks(valores_x)\n",
    "plt.show()"
   ]
  },
  {
   "cell_type": "markdown",
   "metadata": {},
   "source": [
    "# Variable: \"n_baths\""
   ]
  },
  {
   "cell_type": "code",
   "execution_count": 45,
   "metadata": {},
   "outputs": [
    {
     "name": "stdout",
     "output_type": "stream",
     "text": [
      "Valores únicos: [1.0, 2.0, 3.0, 4.0, 5.0, 6.0, 7.0, 8.0]\n",
      "Cantidad de valores únicos en la columna 'n_baths': 8\n",
      "n_baths\n",
      "1.0    3160\n",
      "2.0    2088\n",
      "3.0     635\n",
      "4.0     281\n",
      "5.0     129\n",
      "6.0      30\n",
      "7.0       4\n",
      "8.0       3\n",
      "Name: count, dtype: int64\n"
     ]
    }
   ],
   "source": [
    "unique_values = df1['n_baths'].unique()\n",
    "unique_values = sorted(unique_values)\n",
    "unique_values_count = df1['n_baths'].nunique()\n",
    "n_baths_counts = df1['n_baths'].value_counts()\n",
    "\n",
    "print(\"Valores únicos:\", unique_values)\n",
    "print(\"Cantidad de valores únicos en la columna 'n_baths':\", unique_values_count)\n",
    "print(n_baths_counts)"
   ]
  },
  {
   "cell_type": "code",
   "execution_count": 46,
   "metadata": {},
   "outputs": [
    {
     "data": {
      "image/png": "[encoded data removed]",
      "text/plain": [
       "<Figure size 1000x600 with 1 Axes>"
      ]
     },
     "metadata": {},
     "output_type": "display_data"
    }
   ],
   "source": [
    "data = df1['n_baths'].value_counts().sort_index()\n",
    "plt.figure(figsize=(10, 6))\n",
    "data.plot(kind='bar', color='blue')\n",
    "plt.title('Distribución de Baños')\n",
    "plt.xlabel('Número de Baños')\n",
    "plt.ylabel('Frecuencia')\n",
    "plt.xticks(rotation=0)\n",
    "plt.show()"
   ]
  },
  {
   "cell_type": "markdown",
   "metadata": {},
   "source": [
    "# Variable: \"has_garage\""
   ]
  },
  {
   "cell_type": "code",
   "execution_count": 47,
   "metadata": {},
   "outputs": [
    {
     "name": "stdout",
     "output_type": "stream",
     "text": [
      "Valores únicos: [0, 1]\n",
      "Cantidad de valores únicos en la columna 'has_garage': 2\n",
      "has_garage\n",
      "0    4286\n",
      "1    2044\n",
      "Name: count, dtype: int64\n"
     ]
    }
   ],
   "source": [
    "unique_values = df1['has_garage'].unique()\n",
    "unique_values = sorted(unique_values)\n",
    "unique_values_count = df1['has_garage'].nunique()\n",
    "has_garage_counts = df1['has_garage'].value_counts()\n",
    "\n",
    "print(\"Valores únicos:\", unique_values)\n",
    "print(\"Cantidad de valores únicos en la columna 'has_garage':\", unique_values_count)\n",
    "print(has_garage_counts)"
   ]
  },
  {
   "cell_type": "code",
   "execution_count": 48,
   "metadata": {},
   "outputs": [
    {
     "data": {
      "image/png": "[encoded data removed]",
      "text/plain": [
       "<Figure size 500x500 with 1 Axes>"
      ]
     },
     "metadata": {},
     "output_type": "display_data"
    }
   ],
   "source": [
    "count_tipology = df1['has_garage'].value_counts()\n",
    "labels = ['No tiene Garaje (0)', 'Tiene Garaje (1)']\n",
    "colors = ['cyan', 'green']\n",
    "count_records = [4286, 2044]\n",
    "explode = (0, 0.07)\n",
    "plt.figure(figsize=(5, 5))\n",
    "_, texts, _ = plt.pie(count_tipology, labels=labels, colors=colors, autopct='%1.1f%%', startangle=180, explode=explode)\n",
    "for i, text in enumerate(texts):\n",
    "    text.set_text(f\"{labels[i]}\\n({count_records[i]} registros)\")\n",
    "plt.title('Distribución de Plaza de Garaje')\n",
    "plt.axis('equal')\n",
    "plt.show()"
   ]
  },
  {
   "cell_type": "markdown",
   "metadata": {},
   "source": [
    "# Variable: \"has_pool\""
   ]
  },
  {
   "cell_type": "code",
   "execution_count": 49,
   "metadata": {},
   "outputs": [
    {
     "name": "stdout",
     "output_type": "stream",
     "text": [
      "Valores únicos: [0, 1]\n",
      "Cantidad de valores únicos en la columna 'has_pool': 2\n",
      "has_pool\n",
      "0    4846\n",
      "1    1484\n",
      "Name: count, dtype: int64\n"
     ]
    }
   ],
   "source": [
    "unique_values = df1['has_pool'].unique()\n",
    "unique_values = sorted(unique_values)\n",
    "unique_values_count = df1['has_pool'].nunique()\n",
    "has_pool_counts = df1['has_pool'].value_counts()\n",
    "\n",
    "print(\"Valores únicos:\", unique_values)\n",
    "print(\"Cantidad de valores únicos en la columna 'has_pool':\", unique_values_count)\n",
    "print(has_pool_counts)"
   ]
  },
  {
   "cell_type": "code",
   "execution_count": 50,
   "metadata": {},
   "outputs": [
    {
     "data": {
      "image/png": "[encoded data removed]",
      "text/plain": [
       "<Figure size 500x500 with 1 Axes>"
      ]
     },
     "metadata": {},
     "output_type": "display_data"
    }
   ],
   "source": [
    "count_tipology = df1['has_pool'].value_counts()\n",
    "labels = ['No tiene Piscina (0)', 'Con Piscina (1)']\n",
    "colors = ['cyan', 'green']\n",
    "count_records = [4846, 1484]\n",
    "explode = (0, 0.1)\n",
    "plt.figure(figsize=(5, 5))\n",
    "_, texts, _ = plt.pie(count_tipology, labels=labels, colors=colors, autopct='%1.1f%%', startangle=180, explode=explode)\n",
    "for i, text in enumerate(texts):\n",
    "    text.set_text(f\"{labels[i]}\\n({count_records[i]} registros)\")\n",
    "plt.title('Distribución de Area recreativa: Piscina')\n",
    "plt.axis('equal')\n",
    "plt.show()"
   ]
  },
  {
   "cell_type": "markdown",
   "metadata": {},
   "source": [
    "# Variable: \"has_elevator\""
   ]
  },
  {
   "cell_type": "code",
   "execution_count": 51,
   "metadata": {},
   "outputs": [
    {
     "name": "stdout",
     "output_type": "stream",
     "text": [
      "Valores únicos: [0, 1]\n",
      "Cantidad de valores únicos en la columna 'has_elevator': 2\n",
      "has_elevator\n",
      "1    5120\n",
      "0    1210\n",
      "Name: count, dtype: int64\n"
     ]
    }
   ],
   "source": [
    "unique_values = df1['has_elevator'].unique()\n",
    "unique_values = sorted(unique_values)\n",
    "unique_values_count = df1['has_elevator'].nunique()\n",
    "has_elevator_counts = df1['has_elevator'].value_counts()\n",
    "\n",
    "print(\"Valores únicos:\", unique_values)\n",
    "print(\"Cantidad de valores únicos en la columna 'has_elevator':\", unique_values_count)\n",
    "print(has_elevator_counts)"
   ]
  },
  {
   "cell_type": "code",
   "execution_count": 52,
   "metadata": {},
   "outputs": [
    {
     "data": {
      "image/png": "[encoded data removed]",
      "text/plain": [
       "<Figure size 500x500 with 1 Axes>"
      ]
     },
     "metadata": {},
     "output_type": "display_data"
    }
   ],
   "source": [
    "count_tipology = df1['has_elevator'].value_counts()\n",
    "labels = ['Con Ascensor (1)', 'Sin ascensor (0)']\n",
    "colors = ['cyan', 'green']\n",
    "count_records = [5120, 1210]\n",
    "explode = (0, 0.1)\n",
    "plt.figure(figsize=(5, 5))\n",
    "_, texts, _ = plt.pie(count_tipology, labels=labels, colors=colors, autopct='%1.1f%%', startangle=180, explode=explode)\n",
    "for i, text in enumerate(texts):\n",
    "    text.set_text(f\"{labels[i]}\\n({count_records[i]} registros)\")\n",
    "plt.title('Distribución de Movilidad: Ascensor')\n",
    "plt.axis('equal')\n",
    "plt.show()"
   ]
  },
  {
   "cell_type": "markdown",
   "metadata": {},
   "source": [
    "# Variable: \"is_exterior\""
   ]
  },
  {
   "cell_type": "code",
   "execution_count": 53,
   "metadata": {},
   "outputs": [
    {
     "name": "stdout",
     "output_type": "stream",
     "text": [
      "Valores únicos: [0, 1]\n",
      "Cantidad de valores únicos en la columna 'is_exterior': 2\n",
      "is_exterior\n",
      "1    5328\n",
      "0    1002\n",
      "Name: count, dtype: int64\n"
     ]
    }
   ],
   "source": [
    "unique_values = df1['is_exterior'].unique()\n",
    "unique_values = sorted(unique_values)\n",
    "unique_values_count = df1['is_exterior'].nunique()\n",
    "is_exterior_counts = df1['is_exterior'].value_counts()\n",
    "\n",
    "print(\"Valores únicos:\", unique_values)\n",
    "print(\"Cantidad de valores únicos en la columna 'is_exterior':\", unique_values_count)\n",
    "print(is_exterior_counts)"
   ]
  },
  {
   "cell_type": "code",
   "execution_count": 54,
   "metadata": {},
   "outputs": [
    {
     "data": {
      "image/png": "[encoded data removed]",
      "text/plain": [
       "<Figure size 500x500 with 1 Axes>"
      ]
     },
     "metadata": {},
     "output_type": "display_data"
    }
   ],
   "source": [
    "count_tipology = df1['has_elevator'].value_counts()\n",
    "labels = ['Exterior (1)', 'Interior (0)']\n",
    "colors = ['cyan', 'green']\n",
    "count_records = [5328, 1002]\n",
    "explode = (0, 0.05)\n",
    "plt.figure(figsize=(5, 5))\n",
    "_, texts, _ = plt.pie(count_tipology, labels=labels, colors=colors, autopct='%1.1f%%', startangle=180, explode=explode)\n",
    "for i, text in enumerate(texts):\n",
    "    text.set_text(f\"{labels[i]}\\n({count_records[i]} registros)\")\n",
    "plt.title('Distribución de Exteriores')\n",
    "plt.axis('equal')\n",
    "plt.show()"
   ]
  },
  {
   "cell_type": "code",
   "execution_count": null,
   "metadata": {},
   "outputs": [],
   "source": []
  },
  {
   "cell_type": "code",
   "execution_count": 55,
   "metadata": {},
   "outputs": [
    {
     "ename": "NameError",
     "evalue": "name 'matriz_correlacion' is not defined",
     "output_type": "error",
     "traceback": [
      "\u001b[1;31m---------------------------------------------------------------------------\u001b[0m",
      "\u001b[1;31mNameError\u001b[0m                                 Traceback (most recent call last)",
      "\u001b[1;32mc:\\Users\\axa\\THE BRIDGE_23\\SEMANA 25. DESAFIO TRIPULACIONES\\Valoración Alquileres.ipynb Cell 68\u001b[0m line \u001b[0;36m2\n\u001b[0;32m      <a href='vscode-notebook-cell:/c%3A/Users/axa/THE%20BRIDGE_23/SEMANA%2025.%20DESAFIO%20TRIPULACIONES/Valoraci%C3%B3n%20Alquileres.ipynb#Y143sZmlsZQ%3D%3D?line=0'>1</a>\u001b[0m plt\u001b[39m.\u001b[39mfigure(figsize\u001b[39m=\u001b[39m(\u001b[39m10\u001b[39m,\u001b[39m8\u001b[39m))\n\u001b[1;32m----> <a href='vscode-notebook-cell:/c%3A/Users/axa/THE%20BRIDGE_23/SEMANA%2025.%20DESAFIO%20TRIPULACIONES/Valoraci%C3%B3n%20Alquileres.ipynb#Y143sZmlsZQ%3D%3D?line=1'>2</a>\u001b[0m sns\u001b[39m.\u001b[39mheatmap(matriz_correlacion,annot\u001b[39m=\u001b[39m\u001b[39mTrue\u001b[39;00m)\n",
      "\u001b[1;31mNameError\u001b[0m: name 'matriz_correlacion' is not defined"
     ]
    },
    {
     "data": {
      "text/plain": [
       "<Figure size 1000x800 with 0 Axes>"
      ]
     },
     "metadata": {},
     "output_type": "display_data"
    }
   ],
   "source": [
    "plt.figure(figsize=(10,8))\n",
    "sns.heatmap(matriz_correlacion,annot=True)"
   ]
  },
  {
   "cell_type": "markdown",
   "metadata": {},
   "source": [
    "# Estandarización (5 variables)"
   ]
  },
  {
   "cell_type": "code",
   "execution_count": 56,
   "metadata": {},
   "outputs": [],
   "source": [
    "scaler = StandardScaler()\n",
    "columns_to_scale = ['area', 'latitud', 'longitud', 'n_rooms', 'n_baths']\n",
    "df1[columns_to_scale] = scaler.fit_transform(df1[columns_to_scale])"
   ]
  },
  {
   "cell_type": "code",
   "execution_count": 57,
   "metadata": {},
   "outputs": [],
   "source": [
    "with open('scaler.pkl', 'wb') as file:\n",
    "    pickle.dump(scaler, file)"
   ]
  },
  {
   "cell_type": "code",
   "execution_count": 58,
   "metadata": {},
   "outputs": [],
   "source": [
    "import pickle\n",
    "from sklearn.preprocessing import StandardScaler\n",
    "\n",
    "# Ajustar el StandardScaler a tus datos\n",
    "scaler = StandardScaler().fit(df1[columns_to_scale])\n",
    "\n",
    "# Guardar el objeto StandardScaler en un archivo pickle\n",
    "with open('scaler.pkl', 'wb') as file:\n",
    "    pickle.dump(scaler, file)"
   ]
  },
  {
   "cell_type": "code",
   "execution_count": 59,
   "metadata": {},
   "outputs": [],
   "source": [
    "with open('scaler.pkl', 'rb') as file:\n",
    "    scaler = pickle.load(file)"
   ]
  },
  {
   "cell_type": "code",
   "execution_count": 60,
   "metadata": {},
   "outputs": [
    {
     "data": {
      "text/html": [
       "<style>#sk-container-id-1 {color: black;}#sk-container-id-1 pre{padding: 0;}#sk-container-id-1 div.sk-toggleable {background-color: white;}#sk-container-id-1 label.sk-toggleable__label {cursor: pointer;display: block;width: 100%;margin-bottom: 0;padding: 0.3em;box-sizing: border-box;text-align: center;}#sk-container-id-1 label.sk-toggleable__label-arrow:before {content: \"▸\";float: left;margin-right: 0.25em;color: #696969;}#sk-container-id-1 label.sk-toggleable__label-arrow:hover:before {color: black;}#sk-container-id-1 div.sk-estimator:hover label.sk-toggleable__label-arrow:before {color: black;}#sk-container-id-1 div.sk-toggleable__content {max-height: 0;max-width: 0;overflow: hidden;text-align: left;background-color: #f0f8ff;}#sk-container-id-1 div.sk-toggleable__content pre {margin: 0.2em;color: black;border-radius: 0.25em;background-color: #f0f8ff;}#sk-container-id-1 input.sk-toggleable__control:checked~div.sk-toggleable__content {max-height: 200px;max-width: 100%;overflow: auto;}#sk-container-id-1 input.sk-toggleable__control:checked~label.sk-toggleable__label-arrow:before {content: \"▾\";}#sk-container-id-1 div.sk-estimator input.sk-toggleable__control:checked~label.sk-toggleable__label {background-color: #d4ebff;}#sk-container-id-1 div.sk-label input.sk-toggleable__control:checked~label.sk-toggleable__label {background-color: #d4ebff;}#sk-container-id-1 input.sk-hidden--visually {border: 0;clip: rect(1px 1px 1px 1px);clip: rect(1px, 1px, 1px, 1px);height: 1px;margin: -1px;overflow: hidden;padding: 0;position: absolute;width: 1px;}#sk-container-id-1 div.sk-estimator {font-family: monospace;background-color: #f0f8ff;border: 1px dotted black;border-radius: 0.25em;box-sizing: border-box;margin-bottom: 0.5em;}#sk-container-id-1 div.sk-estimator:hover {background-color: #d4ebff;}#sk-container-id-1 div.sk-parallel-item::after {content: \"\";width: 100%;border-bottom: 1px solid gray;flex-grow: 1;}#sk-container-id-1 div.sk-label:hover label.sk-toggleable__label {background-color: #d4ebff;}#sk-container-id-1 div.sk-serial::before {content: \"\";position: absolute;border-left: 1px solid gray;box-sizing: border-box;top: 0;bottom: 0;left: 50%;z-index: 0;}#sk-container-id-1 div.sk-serial {display: flex;flex-direction: column;align-items: center;background-color: white;padding-right: 0.2em;padding-left: 0.2em;position: relative;}#sk-container-id-1 div.sk-item {position: relative;z-index: 1;}#sk-container-id-1 div.sk-parallel {display: flex;align-items: stretch;justify-content: center;background-color: white;position: relative;}#sk-container-id-1 div.sk-item::before, #sk-container-id-1 div.sk-parallel-item::before {content: \"\";position: absolute;border-left: 1px solid gray;box-sizing: border-box;top: 0;bottom: 0;left: 50%;z-index: -1;}#sk-container-id-1 div.sk-parallel-item {display: flex;flex-direction: column;z-index: 1;position: relative;background-color: white;}#sk-container-id-1 div.sk-parallel-item:first-child::after {align-self: flex-end;width: 50%;}#sk-container-id-1 div.sk-parallel-item:last-child::after {align-self: flex-start;width: 50%;}#sk-container-id-1 div.sk-parallel-item:only-child::after {width: 0;}#sk-container-id-1 div.sk-dashed-wrapped {border: 1px dashed gray;margin: 0 0.4em 0.5em 0.4em;box-sizing: border-box;padding-bottom: 0.4em;background-color: white;}#sk-container-id-1 div.sk-label label {font-family: monospace;font-weight: bold;display: inline-block;line-height: 1.2em;}#sk-container-id-1 div.sk-label-container {text-align: center;}#sk-container-id-1 div.sk-container {/* jupyter's `normalize.less` sets `[hidden] { display: none; }` but bootstrap.min.css set `[hidden] { display: none !important; }` so we also need the `!important` here to be able to override the default hidden behavior on the sphinx rendered scikit-learn.org. See: https://github.com/scikit-learn/scikit-learn/issues/21755 */display: inline-block !important;position: relative;}#sk-container-id-1 div.sk-text-repr-fallback {display: none;}</style><div id=\"sk-container-id-1\" class=\"sk-top-container\"><div class=\"sk-text-repr-fallback\"><pre>StandardScaler()</pre><b>In a Jupyter environment, please rerun this cell to show the HTML representation or trust the notebook. <br />On GitHub, the HTML representation is unable to render, please try loading this page with nbviewer.org.</b></div><div class=\"sk-container\" hidden><div class=\"sk-item\"><div class=\"sk-estimator sk-toggleable\"><input class=\"sk-toggleable__control sk-hidden--visually\" id=\"sk-estimator-id-1\" type=\"checkbox\" checked><label for=\"sk-estimator-id-1\" class=\"sk-toggleable__label sk-toggleable__label-arrow\">StandardScaler</label><div class=\"sk-toggleable__content\"><pre>StandardScaler()</pre></div></div></div></div></div>"
      ],
      "text/plain": [
       "StandardScaler()"
      ]
     },
     "execution_count": 60,
     "metadata": {},
     "output_type": "execute_result"
    }
   ],
   "source": [
    "scaler"
   ]
  },
  {
   "cell_type": "code",
   "execution_count": 61,
   "metadata": {},
   "outputs": [],
   "source": [
    "from sklearn.preprocessing import StandardScaler\n",
    "import pickle\n",
    "\n",
    "scaler = StandardScaler()\n",
    "columns_to_scale = ['area', 'latitud', 'longitud', 'n_rooms', 'n_baths']\n",
    "scaler.fit(df1[columns_to_scale])\n",
    "\n",
    "with open('scaler.pkl', 'wb') as file:\n",
    "    pickle.dump(scaler, file)"
   ]
  },
  {
   "cell_type": "code",
   "execution_count": 62,
   "metadata": {},
   "outputs": [
    {
     "name": "stdout",
     "output_type": "stream",
     "text": [
      "El archivo CSV se ha guardado en: C:\\Users\\axa\\THE BRIDGE_23\\SEMANA 25. DESAFIO TRIPULACIONES\\Valoración_Alquilereshalloween.csv\n"
     ]
    }
   ],
   "source": [
    "import os\n",
    "carpeta_mis_documentos = r\"C:\\Users\\axa\\THE BRIDGE_23\\SEMANA 25. DESAFIO TRIPULACIONES\"\n",
    "if not os.path.exists(carpeta_mis_documentos):\n",
    "    os.makedirs(carpeta_mis_documentos)\n",
    "ruta_guardado = os.path.join(carpeta_mis_documentos, \"Valoración_Alquilereshalloween.csv\")\n",
    "df1.to_csv(ruta_guardado, index=False)\n",
    "print(f\"El archivo CSV se ha guardado en: {ruta_guardado}\")"
   ]
  },
  {
   "cell_type": "markdown",
   "metadata": {},
   "source": [
    "# ML (Modelos Predictivos de Regresión)"
   ]
  },
  {
   "cell_type": "code",
   "execution_count": 63,
   "metadata": {},
   "outputs": [],
   "source": [
    "X = df1.drop('local_price', axis=1)  \n",
    "y = df1['local_price']\n",
    "X_train, X_test, y_train, y_test = train_test_split(X, y, test_size=0.2, random_state=1, shuffle=True)"
   ]
  },
  {
   "cell_type": "code",
   "execution_count": null,
   "metadata": {},
   "outputs": [
    {
     "ename": "ValueError",
     "evalue": "could not convert string to float: 'Ciudad Lineal'",
     "output_type": "error",
     "traceback": [
      "\u001b[1;31m---------------------------------------------------------------------------\u001b[0m",
      "\u001b[1;31mValueError\u001b[0m                                Traceback (most recent call last)",
      "\u001b[1;32m~\\AppData\\Local\\Temp\\ipykernel_12424\\3542393520.py\u001b[0m in \u001b[0;36m?\u001b[1;34m()\u001b[0m\n\u001b[1;32m----> 2\u001b[1;33m \u001b[0mmodeloRFR\u001b[0m \u001b[1;33m=\u001b[0m \u001b[0mRandomForestRegressor\u001b[0m\u001b[1;33m(\u001b[0m\u001b[0mn_estimators\u001b[0m\u001b[1;33m=\u001b[0m\u001b[1;36m100\u001b[0m\u001b[1;33m,\u001b[0m \u001b[0mrandom_state\u001b[0m\u001b[1;33m=\u001b[0m\u001b[1;36m1\u001b[0m\u001b[1;33m)\u001b[0m\u001b[1;33m\u001b[0m\u001b[1;33m\u001b[0m\u001b[0m\n\u001b[0m\u001b[0;32m      3\u001b[0m \u001b[0mmodeloRFR\u001b[0m\u001b[1;33m.\u001b[0m\u001b[0mfit\u001b[0m\u001b[1;33m(\u001b[0m\u001b[0mX_train\u001b[0m\u001b[1;33m,\u001b[0m \u001b[0my_train\u001b[0m\u001b[1;33m)\u001b[0m\u001b[1;33m\u001b[0m\u001b[1;33m\u001b[0m\u001b[0m\n",
      "\u001b[1;32mc:\\Users\\axa\\miniconda3\\envs\\modeloml\\lib\\site-packages\\sklearn\\base.py\u001b[0m in \u001b[0;36m?\u001b[1;34m(estimator, *args, **kwargs)\u001b[0m\n\u001b[0;32m   1148\u001b[0m                 skip_parameter_validation=(\n\u001b[0;32m   1149\u001b[0m                     \u001b[0mprefer_skip_nested_validation\u001b[0m \u001b[1;32mor\u001b[0m \u001b[0mglobal_skip_validation\u001b[0m\u001b[1;33m\u001b[0m\u001b[1;33m\u001b[0m\u001b[0m\n\u001b[0;32m   1150\u001b[0m                 )\n\u001b[0;32m   1151\u001b[0m             ):\n\u001b[1;32m-> 1152\u001b[1;33m                 \u001b[1;32mreturn\u001b[0m \u001b[0mfit_method\u001b[0m\u001b[1;33m(\u001b[0m\u001b[0mestimator\u001b[0m\u001b[1;33m,\u001b[0m \u001b[1;33m*\u001b[0m\u001b[0margs\u001b[0m\u001b[1;33m,\u001b[0m \u001b[1;33m**\u001b[0m\u001b[0mkwargs\u001b[0m\u001b[1;33m)\u001b[0m\u001b[1;33m\u001b[0m\u001b[1;33m\u001b[0m\u001b[0m\n\u001b[0m",
      "\u001b[1;32mc:\\Users\\axa\\miniconda3\\envs\\modeloml\\lib\\site-packages\\sklearn\\ensemble\\_forest.py\u001b[0m in \u001b[0;36m?\u001b[1;34m(self, X, y, sample_weight)\u001b[0m\n\u001b[0;32m    344\u001b[0m         \"\"\"\n\u001b[0;32m    345\u001b[0m         \u001b[1;31m# Validate or convert input data\u001b[0m\u001b[1;33m\u001b[0m\u001b[1;33m\u001b[0m\u001b[0m\n\u001b[0;32m    346\u001b[0m         \u001b[1;32mif\u001b[0m \u001b[0missparse\u001b[0m\u001b[1;33m(\u001b[0m\u001b[0my\u001b[0m\u001b[1;33m)\u001b[0m\u001b[1;33m:\u001b[0m\u001b[1;33m\u001b[0m\u001b[1;33m\u001b[0m\u001b[0m\n\u001b[0;32m    347\u001b[0m             \u001b[1;32mraise\u001b[0m \u001b[0mValueError\u001b[0m\u001b[1;33m(\u001b[0m\u001b[1;34m\"sparse multilabel-indicator for y is not supported.\"\u001b[0m\u001b[1;33m)\u001b[0m\u001b[1;33m\u001b[0m\u001b[1;33m\u001b[0m\u001b[0m\n\u001b[1;32m--> 348\u001b[1;33m         X, y = self._validate_data(\n\u001b[0m\u001b[0;32m    349\u001b[0m             \u001b[0mX\u001b[0m\u001b[1;33m,\u001b[0m \u001b[0my\u001b[0m\u001b[1;33m,\u001b[0m \u001b[0mmulti_output\u001b[0m\u001b[1;33m=\u001b[0m\u001b[1;32mTrue\u001b[0m\u001b[1;33m,\u001b[0m \u001b[0maccept_sparse\u001b[0m\u001b[1;33m=\u001b[0m\u001b[1;34m\"csc\"\u001b[0m\u001b[1;33m,\u001b[0m \u001b[0mdtype\u001b[0m\u001b[1;33m=\u001b[0m\u001b[0mDTYPE\u001b[0m\u001b[1;33m\u001b[0m\u001b[1;33m\u001b[0m\u001b[0m\n\u001b[0;32m    350\u001b[0m         )\n\u001b[0;32m    351\u001b[0m         \u001b[1;32mif\u001b[0m \u001b[0msample_weight\u001b[0m \u001b[1;32mis\u001b[0m \u001b[1;32mnot\u001b[0m \u001b[1;32mNone\u001b[0m\u001b[1;33m:\u001b[0m\u001b[1;33m\u001b[0m\u001b[1;33m\u001b[0m\u001b[0m\n",
      "\u001b[1;32mc:\\Users\\axa\\miniconda3\\envs\\modeloml\\lib\\site-packages\\sklearn\\base.py\u001b[0m in \u001b[0;36m?\u001b[1;34m(self, X, y, reset, validate_separately, cast_to_ndarray, **check_params)\u001b[0m\n\u001b[0;32m    618\u001b[0m                 \u001b[1;32mif\u001b[0m \u001b[1;34m\"estimator\"\u001b[0m \u001b[1;32mnot\u001b[0m \u001b[1;32min\u001b[0m \u001b[0mcheck_y_params\u001b[0m\u001b[1;33m:\u001b[0m\u001b[1;33m\u001b[0m\u001b[1;33m\u001b[0m\u001b[0m\n\u001b[0;32m    619\u001b[0m                     \u001b[0mcheck_y_params\u001b[0m \u001b[1;33m=\u001b[0m \u001b[1;33m{\u001b[0m\u001b[1;33m**\u001b[0m\u001b[0mdefault_check_params\u001b[0m\u001b[1;33m,\u001b[0m \u001b[1;33m**\u001b[0m\u001b[0mcheck_y_params\u001b[0m\u001b[1;33m}\u001b[0m\u001b[1;33m\u001b[0m\u001b[1;33m\u001b[0m\u001b[0m\n\u001b[0;32m    620\u001b[0m                 \u001b[0my\u001b[0m \u001b[1;33m=\u001b[0m \u001b[0mcheck_array\u001b[0m\u001b[1;33m(\u001b[0m\u001b[0my\u001b[0m\u001b[1;33m,\u001b[0m \u001b[0minput_name\u001b[0m\u001b[1;33m=\u001b[0m\u001b[1;34m\"y\"\u001b[0m\u001b[1;33m,\u001b[0m \u001b[1;33m**\u001b[0m\u001b[0mcheck_y_params\u001b[0m\u001b[1;33m)\u001b[0m\u001b[1;33m\u001b[0m\u001b[1;33m\u001b[0m\u001b[0m\n\u001b[0;32m    621\u001b[0m             \u001b[1;32melse\u001b[0m\u001b[1;33m:\u001b[0m\u001b[1;33m\u001b[0m\u001b[1;33m\u001b[0m\u001b[0m\n\u001b[1;32m--> 622\u001b[1;33m                 \u001b[0mX\u001b[0m\u001b[1;33m,\u001b[0m \u001b[0my\u001b[0m \u001b[1;33m=\u001b[0m \u001b[0mcheck_X_y\u001b[0m\u001b[1;33m(\u001b[0m\u001b[0mX\u001b[0m\u001b[1;33m,\u001b[0m \u001b[0my\u001b[0m\u001b[1;33m,\u001b[0m \u001b[1;33m**\u001b[0m\u001b[0mcheck_params\u001b[0m\u001b[1;33m)\u001b[0m\u001b[1;33m\u001b[0m\u001b[1;33m\u001b[0m\u001b[0m\n\u001b[0m\u001b[0;32m    623\u001b[0m             \u001b[0mout\u001b[0m \u001b[1;33m=\u001b[0m \u001b[0mX\u001b[0m\u001b[1;33m,\u001b[0m \u001b[0my\u001b[0m\u001b[1;33m\u001b[0m\u001b[1;33m\u001b[0m\u001b[0m\n\u001b[0;32m    624\u001b[0m \u001b[1;33m\u001b[0m\u001b[0m\n\u001b[0;32m    625\u001b[0m         \u001b[1;32mif\u001b[0m \u001b[1;32mnot\u001b[0m \u001b[0mno_val_X\u001b[0m \u001b[1;32mand\u001b[0m \u001b[0mcheck_params\u001b[0m\u001b[1;33m.\u001b[0m\u001b[0mget\u001b[0m\u001b[1;33m(\u001b[0m\u001b[1;34m\"ensure_2d\"\u001b[0m\u001b[1;33m,\u001b[0m \u001b[1;32mTrue\u001b[0m\u001b[1;33m)\u001b[0m\u001b[1;33m:\u001b[0m\u001b[1;33m\u001b[0m\u001b[1;33m\u001b[0m\u001b[0m\n",
      "\u001b[1;32mc:\\Users\\axa\\miniconda3\\envs\\modeloml\\lib\\site-packages\\sklearn\\utils\\validation.py\u001b[0m in \u001b[0;36m?\u001b[1;34m(X, y, accept_sparse, accept_large_sparse, dtype, order, copy, force_all_finite, ensure_2d, allow_nd, multi_output, ensure_min_samples, ensure_min_features, y_numeric, estimator)\u001b[0m\n\u001b[0;32m   1142\u001b[0m         raise ValueError(\n\u001b[0;32m   1143\u001b[0m             \u001b[1;34mf\"{estimator_name} requires y to be passed, but the target y is None\"\u001b[0m\u001b[1;33m\u001b[0m\u001b[1;33m\u001b[0m\u001b[0m\n\u001b[0;32m   1144\u001b[0m         )\n\u001b[0;32m   1145\u001b[0m \u001b[1;33m\u001b[0m\u001b[0m\n\u001b[1;32m-> 1146\u001b[1;33m     X = check_array(\n\u001b[0m\u001b[0;32m   1147\u001b[0m         \u001b[0mX\u001b[0m\u001b[1;33m,\u001b[0m\u001b[1;33m\u001b[0m\u001b[1;33m\u001b[0m\u001b[0m\n\u001b[0;32m   1148\u001b[0m         \u001b[0maccept_sparse\u001b[0m\u001b[1;33m=\u001b[0m\u001b[0maccept_sparse\u001b[0m\u001b[1;33m,\u001b[0m\u001b[1;33m\u001b[0m\u001b[1;33m\u001b[0m\u001b[0m\n\u001b[0;32m   1149\u001b[0m         \u001b[0maccept_large_sparse\u001b[0m\u001b[1;33m=\u001b[0m\u001b[0maccept_large_sparse\u001b[0m\u001b[1;33m,\u001b[0m\u001b[1;33m\u001b[0m\u001b[1;33m\u001b[0m\u001b[0m\n",
      "\u001b[1;32mc:\\Users\\axa\\miniconda3\\envs\\modeloml\\lib\\site-packages\\sklearn\\utils\\validation.py\u001b[0m in \u001b[0;36m?\u001b[1;34m(array, accept_sparse, accept_large_sparse, dtype, order, copy, force_all_finite, ensure_2d, allow_nd, ensure_min_samples, ensure_min_features, estimator, input_name)\u001b[0m\n\u001b[0;32m    913\u001b[0m                     \u001b[0marray\u001b[0m \u001b[1;33m=\u001b[0m \u001b[0mxp\u001b[0m\u001b[1;33m.\u001b[0m\u001b[0mastype\u001b[0m\u001b[1;33m(\u001b[0m\u001b[0marray\u001b[0m\u001b[1;33m,\u001b[0m \u001b[0mdtype\u001b[0m\u001b[1;33m,\u001b[0m \u001b[0mcopy\u001b[0m\u001b[1;33m=\u001b[0m\u001b[1;32mFalse\u001b[0m\u001b[1;33m)\u001b[0m\u001b[1;33m\u001b[0m\u001b[1;33m\u001b[0m\u001b[0m\n\u001b[0;32m    914\u001b[0m                 \u001b[1;32melse\u001b[0m\u001b[1;33m:\u001b[0m\u001b[1;33m\u001b[0m\u001b[1;33m\u001b[0m\u001b[0m\n\u001b[0;32m    915\u001b[0m                     \u001b[0marray\u001b[0m \u001b[1;33m=\u001b[0m \u001b[0m_asarray_with_order\u001b[0m\u001b[1;33m(\u001b[0m\u001b[0marray\u001b[0m\u001b[1;33m,\u001b[0m \u001b[0morder\u001b[0m\u001b[1;33m=\u001b[0m\u001b[0morder\u001b[0m\u001b[1;33m,\u001b[0m \u001b[0mdtype\u001b[0m\u001b[1;33m=\u001b[0m\u001b[0mdtype\u001b[0m\u001b[1;33m,\u001b[0m \u001b[0mxp\u001b[0m\u001b[1;33m=\u001b[0m\u001b[0mxp\u001b[0m\u001b[1;33m)\u001b[0m\u001b[1;33m\u001b[0m\u001b[1;33m\u001b[0m\u001b[0m\n\u001b[0;32m    916\u001b[0m             \u001b[1;32mexcept\u001b[0m \u001b[0mComplexWarning\u001b[0m \u001b[1;32mas\u001b[0m \u001b[0mcomplex_warning\u001b[0m\u001b[1;33m:\u001b[0m\u001b[1;33m\u001b[0m\u001b[1;33m\u001b[0m\u001b[0m\n\u001b[1;32m--> 917\u001b[1;33m                 raise ValueError(\n\u001b[0m\u001b[0;32m    918\u001b[0m                     \u001b[1;34m\"Complex data not supported\\n{}\\n\"\u001b[0m\u001b[1;33m.\u001b[0m\u001b[0mformat\u001b[0m\u001b[1;33m(\u001b[0m\u001b[0marray\u001b[0m\u001b[1;33m)\u001b[0m\u001b[1;33m\u001b[0m\u001b[1;33m\u001b[0m\u001b[0m\n\u001b[0;32m    919\u001b[0m                 ) from complex_warning\n\u001b[0;32m    920\u001b[0m \u001b[1;33m\u001b[0m\u001b[0m\n",
      "\u001b[1;32mc:\\Users\\axa\\miniconda3\\envs\\modeloml\\lib\\site-packages\\sklearn\\utils\\_array_api.py\u001b[0m in \u001b[0;36m?\u001b[1;34m(array, dtype, order, copy, xp)\u001b[0m\n\u001b[0;32m    376\u001b[0m         \u001b[1;31m# Use NumPy API to support order\u001b[0m\u001b[1;33m\u001b[0m\u001b[1;33m\u001b[0m\u001b[0m\n\u001b[0;32m    377\u001b[0m         \u001b[1;32mif\u001b[0m \u001b[0mcopy\u001b[0m \u001b[1;32mis\u001b[0m \u001b[1;32mTrue\u001b[0m\u001b[1;33m:\u001b[0m\u001b[1;33m\u001b[0m\u001b[1;33m\u001b[0m\u001b[0m\n\u001b[0;32m    378\u001b[0m             \u001b[0marray\u001b[0m \u001b[1;33m=\u001b[0m \u001b[0mnumpy\u001b[0m\u001b[1;33m.\u001b[0m\u001b[0marray\u001b[0m\u001b[1;33m(\u001b[0m\u001b[0marray\u001b[0m\u001b[1;33m,\u001b[0m \u001b[0morder\u001b[0m\u001b[1;33m=\u001b[0m\u001b[0morder\u001b[0m\u001b[1;33m,\u001b[0m \u001b[0mdtype\u001b[0m\u001b[1;33m=\u001b[0m\u001b[0mdtype\u001b[0m\u001b[1;33m)\u001b[0m\u001b[1;33m\u001b[0m\u001b[1;33m\u001b[0m\u001b[0m\n\u001b[0;32m    379\u001b[0m         \u001b[1;32melse\u001b[0m\u001b[1;33m:\u001b[0m\u001b[1;33m\u001b[0m\u001b[1;33m\u001b[0m\u001b[0m\n\u001b[1;32m--> 380\u001b[1;33m             \u001b[0marray\u001b[0m \u001b[1;33m=\u001b[0m \u001b[0mnumpy\u001b[0m\u001b[1;33m.\u001b[0m\u001b[0masarray\u001b[0m\u001b[1;33m(\u001b[0m\u001b[0marray\u001b[0m\u001b[1;33m,\u001b[0m \u001b[0morder\u001b[0m\u001b[1;33m=\u001b[0m\u001b[0morder\u001b[0m\u001b[1;33m,\u001b[0m \u001b[0mdtype\u001b[0m\u001b[1;33m=\u001b[0m\u001b[0mdtype\u001b[0m\u001b[1;33m)\u001b[0m\u001b[1;33m\u001b[0m\u001b[1;33m\u001b[0m\u001b[0m\n\u001b[0m\u001b[0;32m    381\u001b[0m \u001b[1;33m\u001b[0m\u001b[0m\n\u001b[0;32m    382\u001b[0m         \u001b[1;31m# At this point array is a NumPy ndarray. We convert it to an array\u001b[0m\u001b[1;33m\u001b[0m\u001b[1;33m\u001b[0m\u001b[0m\n\u001b[0;32m    383\u001b[0m         \u001b[1;31m# container that is consistent with the input's namespace.\u001b[0m\u001b[1;33m\u001b[0m\u001b[1;33m\u001b[0m\u001b[0m\n",
      "\u001b[1;32mc:\\Users\\axa\\miniconda3\\envs\\modeloml\\lib\\site-packages\\pandas\\core\\generic.py\u001b[0m in \u001b[0;36m?\u001b[1;34m(self, dtype)\u001b[0m\n\u001b[0;32m   2082\u001b[0m     \u001b[1;32mdef\u001b[0m \u001b[0m__array__\u001b[0m\u001b[1;33m(\u001b[0m\u001b[0mself\u001b[0m\u001b[1;33m,\u001b[0m \u001b[0mdtype\u001b[0m\u001b[1;33m:\u001b[0m \u001b[0mnpt\u001b[0m\u001b[1;33m.\u001b[0m\u001b[0mDTypeLike\u001b[0m \u001b[1;33m|\u001b[0m \u001b[1;32mNone\u001b[0m \u001b[1;33m=\u001b[0m \u001b[1;32mNone\u001b[0m\u001b[1;33m)\u001b[0m \u001b[1;33m->\u001b[0m \u001b[0mnp\u001b[0m\u001b[1;33m.\u001b[0m\u001b[0mndarray\u001b[0m\u001b[1;33m:\u001b[0m\u001b[1;33m\u001b[0m\u001b[1;33m\u001b[0m\u001b[0m\n\u001b[0;32m   2083\u001b[0m         \u001b[0mvalues\u001b[0m \u001b[1;33m=\u001b[0m \u001b[0mself\u001b[0m\u001b[1;33m.\u001b[0m\u001b[0m_values\u001b[0m\u001b[1;33m\u001b[0m\u001b[1;33m\u001b[0m\u001b[0m\n\u001b[1;32m-> 2084\u001b[1;33m         \u001b[0marr\u001b[0m \u001b[1;33m=\u001b[0m \u001b[0mnp\u001b[0m\u001b[1;33m.\u001b[0m\u001b[0masarray\u001b[0m\u001b[1;33m(\u001b[0m\u001b[0mvalues\u001b[0m\u001b[1;33m,\u001b[0m \u001b[0mdtype\u001b[0m\u001b[1;33m=\u001b[0m\u001b[0mdtype\u001b[0m\u001b[1;33m)\u001b[0m\u001b[1;33m\u001b[0m\u001b[1;33m\u001b[0m\u001b[0m\n\u001b[0m\u001b[0;32m   2085\u001b[0m         if (\n\u001b[0;32m   2086\u001b[0m             \u001b[0mastype_is_view\u001b[0m\u001b[1;33m(\u001b[0m\u001b[0mvalues\u001b[0m\u001b[1;33m.\u001b[0m\u001b[0mdtype\u001b[0m\u001b[1;33m,\u001b[0m \u001b[0marr\u001b[0m\u001b[1;33m.\u001b[0m\u001b[0mdtype\u001b[0m\u001b[1;33m)\u001b[0m\u001b[1;33m\u001b[0m\u001b[1;33m\u001b[0m\u001b[0m\n\u001b[0;32m   2087\u001b[0m             \u001b[1;32mand\u001b[0m \u001b[0musing_copy_on_write\u001b[0m\u001b[1;33m(\u001b[0m\u001b[1;33m)\u001b[0m\u001b[1;33m\u001b[0m\u001b[1;33m\u001b[0m\u001b[0m\n",
      "\u001b[1;31mValueError\u001b[0m: could not convert string to float: 'Ciudad Lineal'"
     ]
    }
   ],
   "source": [
    "modeloRFR = RandomForestRegressor(n_estimators=100, random_state=1)\n",
    "modeloRFR.fit(X_train, y_train)"
   ]
  },
  {
   "cell_type": "code",
   "execution_count": null,
   "metadata": {},
   "outputs": [],
   "source": [
    "y_pred = modeloRFR.predict(X_test)"
   ]
  },
  {
   "cell_type": "code",
   "execution_count": null,
   "metadata": {},
   "outputs": [
    {
     "name": "stdout",
     "output_type": "stream",
     "text": [
      "Error Cuadrático Medio (MSE): 757026.5790891849\n"
     ]
    }
   ],
   "source": [
    "mse = mean_squared_error(y_test, y_pred)\n",
    "print(f'Error Cuadrático Medio (MSE): {mse}')"
   ]
  },
  {
   "cell_type": "code",
   "execution_count": null,
   "metadata": {},
   "outputs": [
    {
     "name": "stdout",
     "output_type": "stream",
     "text": [
      "Coeficiente de Determinación (R^2): 0.7290993064844197\n"
     ]
    }
   ],
   "source": [
    "r2 = r2_score(y_test, y_pred)\n",
    "print(f'Coeficiente de Determinación (R^2): {r2}')"
   ]
  },
  {
   "cell_type": "code",
   "execution_count": null,
   "metadata": {},
   "outputs": [
    {
     "name": "stdout",
     "output_type": "stream",
     "text": [
      "Index(['area', 'latitud', 'longitud', 'tipology', 'n_rooms', 'n_baths',\n",
      "       'has_garage', 'has_pool', 'has_elevator', 'is_exterior'],\n",
      "      dtype='object')\n",
      "[0.5951904  0.17915695 0.10199731 0.00096596 0.02234865 0.07427358\n",
      " 0.00758685 0.00852815 0.00513563 0.00481651]\n"
     ]
    }
   ],
   "source": [
    "importances = modeloRFR.feature_importances_\n",
    "feature_names = df1.columns.drop(\"local_price\")\n",
    "print(feature_names)\n",
    "print(importances)\n"
   ]
  },
  {
   "cell_type": "code",
   "execution_count": null,
   "metadata": {},
   "outputs": [
    {
     "data": {
      "image/png": "[encoded data removed]",
      "text/plain": [
       "<Figure size 1200x600 with 1 Axes>"
      ]
     },
     "metadata": {},
     "output_type": "display_data"
    }
   ],
   "source": [
    "importances = modeloRFR.feature_importances_\n",
    "feature_names = df1.columns.drop(\"local_price\")\n",
    "feature_importances = pd.DataFrame({'Feature': feature_names, 'Importance': importances})\n",
    "feature_importances = feature_importances.sort_values(by='Importance', ascending=False)\n",
    "plt.figure(figsize=(12, 6))\n",
    "plt.barh(feature_importances['Feature'], feature_importances['Importance'])\n",
    "plt.xlabel('Importancia')\n",
    "plt.ylabel('Características')\n",
    "plt.title('Importancia de las Características')\n",
    "plt.show()"
   ]
  },
  {
   "cell_type": "markdown",
   "metadata": {},
   "source": [
    "# Clusterización"
   ]
  },
  {
   "cell_type": "code",
   "execution_count": null,
   "metadata": {},
   "outputs": [],
   "source": [
    "def clusters_optimo(df, variables, max_clusters=10):\n",
    "    data = df[variables].values\n",
    "    sse = []\n",
    "    for i in range(1, max_clusters + 1):\n",
    "        kmeans = KMeans(n_clusters=i, init='k-means++', max_iter=300, n_init=10, random_state=0)\n",
    "        kmeans.fit(data)\n",
    "        sse.append(kmeans.inertia_)\n",
    "    plt.plot(range(1, max_clusters + 1), sse)\n",
    "    plt.title('Método del Codo')\n",
    "    plt.xlabel('Clusters')\n",
    "    plt.ylabel('(SSE)')\n",
    "    plt.show()\n",
    "    clusters_mejor = np.argmin(np.diff(sse)) + 1\n",
    "    print('mejor clusters {}'.format(clusters_mejor))\n",
    "    return clusters_mejor"
   ]
  },
  {
   "cell_type": "code",
   "execution_count": null,
   "metadata": {},
   "outputs": [],
   "source": [
    "def prueba_kmeans(df, variables, num_clusters):\n",
    "    data = df[variables].values\n",
    "    kmeans = KMeans(n_clusters=num_clusters)\n",
    "    cluster = kmeans.fit_predict(data)\n",
    "    return cluster"
   ]
  },
  {
   "cell_type": "markdown",
   "metadata": {},
   "source": [
    "## KMeans en dataset codificado/escalado"
   ]
  },
  {
   "cell_type": "code",
   "execution_count": null,
   "metadata": {},
   "outputs": [],
   "source": [
    "# Leer df (codificado/escalado) de data/\n",
    "df=pd.read_csv(r\"C:\\Users\\axa\\THE BRIDGE_23\\SEMANA 25. DESAFIO TRIPULACIONES\\Valoración_Alquilereshalloween.csv\", sep=',')"
   ]
  },
  {
   "cell_type": "code",
   "execution_count": null,
   "metadata": {},
   "outputs": [],
   "source": [
    "# renombrar columnas latitud longitud\n",
    "df.rename(columns={'replace':'latitud', 'replace.1':'longitud'}, inplace=True)"
   ]
  },
  {
   "cell_type": "code",
   "execution_count": null,
   "metadata": {},
   "outputs": [],
   "source": [
    "# columnas a pasar a funcion prueba_kmeans y clusters_optimo\n",
    "\n",
    "col=['area', 'tipology', 'n_rooms',\n",
    "       'n_baths', 'has_garage', 'has_pool', 'has_elevator', 'is_exterior']"
   ]
  },
  {
   "cell_type": "code",
   "execution_count": null,
   "metadata": {},
   "outputs": [
    {
     "data": {
      "image/png": "[encoded data removed]",
      "text/plain": [
       "<Figure size 640x480 with 1 Axes>"
      ]
     },
     "metadata": {},
     "output_type": "display_data"
    },
    {
     "name": "stdout",
     "output_type": "stream",
     "text": [
      "mejor clusters 1\n"
     ]
    },
    {
     "data": {
      "text/plain": [
       "1"
      ]
     },
     "execution_count": 75,
     "metadata": {},
     "output_type": "execute_result"
    }
   ],
   "source": [
    "mejor_clusters=clusters_optimo(df, col)\n",
    "mejor_clusters"
   ]
  },
  {
   "cell_type": "code",
   "execution_count": null,
   "metadata": {},
   "outputs": [],
   "source": [
    "lista=[]"
   ]
  },
  {
   "cell_type": "code",
   "execution_count": null,
   "metadata": {},
   "outputs": [
    {
     "name": "stderr",
     "output_type": "stream",
     "text": [
      "c:\\Users\\axa\\miniconda3\\envs\\modeloml\\lib\\site-packages\\sklearn\\cluster\\_kmeans.py:1416: FutureWarning: The default value of `n_init` will change from 10 to 'auto' in 1.4. Set the value of `n_init` explicitly to suppress the warning\n",
      "  super()._check_params_vs_input(X, default_n_init=10)\n",
      "c:\\Users\\axa\\miniconda3\\envs\\modeloml\\lib\\site-packages\\sklearn\\cluster\\_kmeans.py:1416: FutureWarning: The default value of `n_init` will change from 10 to 'auto' in 1.4. Set the value of `n_init` explicitly to suppress the warning\n",
      "  super()._check_params_vs_input(X, default_n_init=10)\n",
      "c:\\Users\\axa\\miniconda3\\envs\\modeloml\\lib\\site-packages\\sklearn\\cluster\\_kmeans.py:1416: FutureWarning: The default value of `n_init` will change from 10 to 'auto' in 1.4. Set the value of `n_init` explicitly to suppress the warning\n",
      "  super()._check_params_vs_input(X, default_n_init=10)\n",
      "c:\\Users\\axa\\miniconda3\\envs\\modeloml\\lib\\site-packages\\sklearn\\cluster\\_kmeans.py:1416: FutureWarning: The default value of `n_init` will change from 10 to 'auto' in 1.4. Set the value of `n_init` explicitly to suppress the warning\n",
      "  super()._check_params_vs_input(X, default_n_init=10)\n",
      "c:\\Users\\axa\\miniconda3\\envs\\modeloml\\lib\\site-packages\\sklearn\\cluster\\_kmeans.py:1416: FutureWarning: The default value of `n_init` will change from 10 to 'auto' in 1.4. Set the value of `n_init` explicitly to suppress the warning\n",
      "  super()._check_params_vs_input(X, default_n_init=10)\n",
      "c:\\Users\\axa\\miniconda3\\envs\\modeloml\\lib\\site-packages\\sklearn\\cluster\\_kmeans.py:1416: FutureWarning: The default value of `n_init` will change from 10 to 'auto' in 1.4. Set the value of `n_init` explicitly to suppress the warning\n",
      "  super()._check_params_vs_input(X, default_n_init=10)\n",
      "c:\\Users\\axa\\miniconda3\\envs\\modeloml\\lib\\site-packages\\sklearn\\cluster\\_kmeans.py:1416: FutureWarning: The default value of `n_init` will change from 10 to 'auto' in 1.4. Set the value of `n_init` explicitly to suppress the warning\n",
      "  super()._check_params_vs_input(X, default_n_init=10)\n",
      "c:\\Users\\axa\\miniconda3\\envs\\modeloml\\lib\\site-packages\\sklearn\\cluster\\_kmeans.py:1416: FutureWarning: The default value of `n_init` will change from 10 to 'auto' in 1.4. Set the value of `n_init` explicitly to suppress the warning\n",
      "  super()._check_params_vs_input(X, default_n_init=10)\n",
      "c:\\Users\\axa\\miniconda3\\envs\\modeloml\\lib\\site-packages\\sklearn\\cluster\\_kmeans.py:1416: FutureWarning: The default value of `n_init` will change from 10 to 'auto' in 1.4. Set the value of `n_init` explicitly to suppress the warning\n",
      "  super()._check_params_vs_input(X, default_n_init=10)\n",
      "c:\\Users\\axa\\miniconda3\\envs\\modeloml\\lib\\site-packages\\sklearn\\cluster\\_kmeans.py:1416: FutureWarning: The default value of `n_init` will change from 10 to 'auto' in 1.4. Set the value of `n_init` explicitly to suppress the warning\n",
      "  super()._check_params_vs_input(X, default_n_init=10)\n",
      "c:\\Users\\axa\\miniconda3\\envs\\modeloml\\lib\\site-packages\\sklearn\\cluster\\_kmeans.py:1416: FutureWarning: The default value of `n_init` will change from 10 to 'auto' in 1.4. Set the value of `n_init` explicitly to suppress the warning\n",
      "  super()._check_params_vs_input(X, default_n_init=10)\n",
      "c:\\Users\\axa\\miniconda3\\envs\\modeloml\\lib\\site-packages\\sklearn\\cluster\\_kmeans.py:1416: FutureWarning: The default value of `n_init` will change from 10 to 'auto' in 1.4. Set the value of `n_init` explicitly to suppress the warning\n",
      "  super()._check_params_vs_input(X, default_n_init=10)\n",
      "c:\\Users\\axa\\miniconda3\\envs\\modeloml\\lib\\site-packages\\sklearn\\cluster\\_kmeans.py:1416: FutureWarning: The default value of `n_init` will change from 10 to 'auto' in 1.4. Set the value of `n_init` explicitly to suppress the warning\n",
      "  super()._check_params_vs_input(X, default_n_init=10)\n",
      "c:\\Users\\axa\\miniconda3\\envs\\modeloml\\lib\\site-packages\\sklearn\\cluster\\_kmeans.py:1416: FutureWarning: The default value of `n_init` will change from 10 to 'auto' in 1.4. Set the value of `n_init` explicitly to suppress the warning\n",
      "  super()._check_params_vs_input(X, default_n_init=10)\n",
      "c:\\Users\\axa\\miniconda3\\envs\\modeloml\\lib\\site-packages\\sklearn\\cluster\\_kmeans.py:1416: FutureWarning: The default value of `n_init` will change from 10 to 'auto' in 1.4. Set the value of `n_init` explicitly to suppress the warning\n",
      "  super()._check_params_vs_input(X, default_n_init=10)\n",
      "c:\\Users\\axa\\miniconda3\\envs\\modeloml\\lib\\site-packages\\sklearn\\cluster\\_kmeans.py:1416: FutureWarning: The default value of `n_init` will change from 10 to 'auto' in 1.4. Set the value of `n_init` explicitly to suppress the warning\n",
      "  super()._check_params_vs_input(X, default_n_init=10)\n",
      "c:\\Users\\axa\\miniconda3\\envs\\modeloml\\lib\\site-packages\\sklearn\\cluster\\_kmeans.py:1416: FutureWarning: The default value of `n_init` will change from 10 to 'auto' in 1.4. Set the value of `n_init` explicitly to suppress the warning\n",
      "  super()._check_params_vs_input(X, default_n_init=10)\n",
      "c:\\Users\\axa\\miniconda3\\envs\\modeloml\\lib\\site-packages\\sklearn\\cluster\\_kmeans.py:1416: FutureWarning: The default value of `n_init` will change from 10 to 'auto' in 1.4. Set the value of `n_init` explicitly to suppress the warning\n",
      "  super()._check_params_vs_input(X, default_n_init=10)\n"
     ]
    }
   ],
   "source": [
    "for i in range(2,20):\n",
    "    kmeans=KMeans(n_clusters=i)\n",
    "    kmeans.fit(df[col])\n",
    "    lista.append(kmeans.inertia_)"
   ]
  },
  {
   "cell_type": "code",
   "execution_count": null,
   "metadata": {},
   "outputs": [
    {
     "data": {
      "text/plain": [
       "[<matplotlib.lines.Line2D at 0x16ab65fc730>]"
      ]
     },
     "execution_count": 78,
     "metadata": {},
     "output_type": "execute_result"
    },
    {
     "data": {
      "image/png": "[encoded data removed]",
      "text/plain": [
       "<Figure size 640x480 with 1 Axes>"
      ]
     },
     "metadata": {},
     "output_type": "display_data"
    }
   ],
   "source": [
    "plt.plot(range(2,20), lista)"
   ]
  },
  {
   "cell_type": "code",
   "execution_count": null,
   "metadata": {},
   "outputs": [
    {
     "name": "stderr",
     "output_type": "stream",
     "text": [
      "c:\\Users\\axa\\miniconda3\\envs\\modeloml\\lib\\site-packages\\sklearn\\cluster\\_kmeans.py:1416: FutureWarning: The default value of `n_init` will change from 10 to 'auto' in 1.4. Set the value of `n_init` explicitly to suppress the warning\n",
      "  super()._check_params_vs_input(X, default_n_init=10)\n"
     ]
    }
   ],
   "source": [
    "pred=prueba_kmeans(df, df.columns, 4)"
   ]
  },
  {
   "cell_type": "code",
   "execution_count": null,
   "metadata": {},
   "outputs": [],
   "source": [
    "# añadir columna cluster con la predicción\n",
    "df['cluster']=pred"
   ]
  },
  {
   "cell_type": "code",
   "execution_count": null,
   "metadata": {},
   "outputs": [
    {
     "data": {
      "text/plain": [
       "Index(['area', 'local_price', 'latitud', 'longitud', 'tipology', 'n_rooms',\n",
       "       'n_baths', 'has_garage', 'has_pool', 'has_elevator', 'is_exterior',\n",
       "       'cluster'],\n",
       "      dtype='object')"
      ]
     },
     "execution_count": 81,
     "metadata": {},
     "output_type": "execute_result"
    }
   ],
   "source": [
    "df.columns"
   ]
  },
  {
   "cell_type": "code",
   "execution_count": null,
   "metadata": {},
   "outputs": [
    {
     "data": {
      "text/plain": [
       "cluster\n",
       "0    0.596840\n",
       "3    0.302686\n",
       "1    0.086098\n",
       "2    0.014376\n",
       "Name: proportion, dtype: float64"
      ]
     },
     "execution_count": 82,
     "metadata": {},
     "output_type": "execute_result"
    }
   ],
   "source": [
    "df.cluster.value_counts(normalize=True)"
   ]
  },
  {
   "cell_type": "markdown",
   "metadata": {},
   "source": [
    "### df_limpio . Ver media/moda de cada variable"
   ]
  },
  {
   "cell_type": "code",
   "execution_count": null,
   "metadata": {},
   "outputs": [],
   "source": [
    "# Leer df_limpio (sin codificar ni escalar) de data\n",
    "df_limpio=pd.read_csv(r\"C:\\Users\\axa\\THE BRIDGE_23\\SEMANA 25. DESAFIO TRIPULACIONES\\dflimpio.csv\", sep=\",\")"
   ]
  },
  {
   "cell_type": "code",
   "execution_count": null,
   "metadata": {},
   "outputs": [],
   "source": [
    "# renombrar columnas latitud longitud\n",
    "df_limpio.rename(columns={'replace':'latitud', 'replace.1':'longitud'}, inplace=True)"
   ]
  },
  {
   "cell_type": "code",
   "execution_count": null,
   "metadata": {},
   "outputs": [
    {
     "data": {
      "text/html": [
       "<div>\n",
       "<style scoped>\n",
       "    .dataframe tbody tr th:only-of-type {\n",
       "        vertical-align: middle;\n",
       "    }\n",
       "\n",
       "    .dataframe tbody tr th {\n",
       "        vertical-align: top;\n",
       "    }\n",
       "\n",
       "    .dataframe thead th {\n",
       "        text-align: right;\n",
       "    }\n",
       "</style>\n",
       "<table border=\"1\" class=\"dataframe\">\n",
       "  <thead>\n",
       "    <tr style=\"text-align: right;\">\n",
       "      <th></th>\n",
       "      <th>area</th>\n",
       "      <th>local_price</th>\n",
       "      <th>latitud</th>\n",
       "      <th>longitud</th>\n",
       "      <th>tipology</th>\n",
       "      <th>n_rooms</th>\n",
       "      <th>n_baths</th>\n",
       "      <th>has_garage</th>\n",
       "      <th>has_pool</th>\n",
       "      <th>has_elevator</th>\n",
       "      <th>is_exterior</th>\n",
       "    </tr>\n",
       "  </thead>\n",
       "  <tbody>\n",
       "    <tr>\n",
       "      <th>1751</th>\n",
       "      <td>177</td>\n",
       "      <td>3000</td>\n",
       "      <td>40.457398</td>\n",
       "      <td>-3.626137</td>\n",
       "      <td>Piso</td>\n",
       "      <td>3.0</td>\n",
       "      <td>3.0</td>\n",
       "      <td>t</td>\n",
       "      <td>t</td>\n",
       "      <td>t</td>\n",
       "      <td>t</td>\n",
       "    </tr>\n",
       "  </tbody>\n",
       "</table>\n",
       "</div>"
      ],
      "text/plain": [
       "      area  local_price    latitud  longitud tipology  n_rooms  n_baths  \\\n",
       "1751   177         3000  40.457398 -3.626137     Piso      3.0      3.0   \n",
       "\n",
       "     has_garage has_pool has_elevator is_exterior  \n",
       "1751          t        t            t           t  "
      ]
     },
     "execution_count": 85,
     "metadata": {},
     "output_type": "execute_result"
    }
   ],
   "source": [
    "df_limpio.sample()"
   ]
  },
  {
   "cell_type": "code",
   "execution_count": null,
   "metadata": {},
   "outputs": [],
   "source": [
    "df_limpio['cluster']=pred"
   ]
  },
  {
   "cell_type": "code",
   "execution_count": null,
   "metadata": {},
   "outputs": [
    {
     "data": {
      "text/plain": [
       "Index(['area', 'latitud', 'longitud', 'n_rooms', 'n_baths', 'cluster'], dtype='object')"
      ]
     },
     "execution_count": 87,
     "metadata": {},
     "output_type": "execute_result"
    }
   ],
   "source": [
    "# columnas numéricas, para ver media de cada columna en dataset limpio\n",
    "col_num=df_limpio.select_dtypes(include='number').columns\n",
    "col_num=col_num.drop('local_price') # quitamos el precio\n",
    "col_num"
   ]
  },
  {
   "cell_type": "code",
   "execution_count": null,
   "metadata": {},
   "outputs": [
    {
     "data": {
      "text/plain": [
       "Index(['tipology', 'has_garage', 'has_pool', 'has_elevator', 'is_exterior'], dtype='object')"
      ]
     },
     "execution_count": 88,
     "metadata": {},
     "output_type": "execute_result"
    }
   ],
   "source": [
    "# columnas categóricas para ver media de cada columna en dataset limpio\n",
    "col_cat=df_limpio.select_dtypes(include='O').columns\n",
    "col_cat"
   ]
  },
  {
   "cell_type": "code",
   "execution_count": null,
   "metadata": {},
   "outputs": [],
   "source": [
    "# añadir columna cluster\n",
    "\n",
    "df_limpio['cluster']=pred"
   ]
  },
  {
   "cell_type": "code",
   "execution_count": null,
   "metadata": {},
   "outputs": [
    {
     "data": {
      "text/plain": [
       "4263    1\n",
       "14      0\n",
       "3382    3\n",
       "Name: cluster, dtype: int32"
      ]
     },
     "execution_count": 90,
     "metadata": {},
     "output_type": "execute_result"
    }
   ],
   "source": [
    "df_limpio.cluster.sample(3)"
   ]
  },
  {
   "cell_type": "code",
   "execution_count": null,
   "metadata": {},
   "outputs": [
    {
     "name": "stdout",
     "output_type": "stream",
     "text": [
      "COLUMNA area\n",
      "  Cluster 3\n",
      "\tMedia 129.56315240083507\n",
      "  Cluster 1\n",
      "\tMedia 232.76697247706423\n",
      "  Cluster 2\n",
      "\tMedia 354.13186813186815\n",
      "  Cluster 0\n",
      "\tMedia 72.28163049232398\n",
      "COLUMNA latitud\n",
      "  Cluster 3\n",
      "\tMedia 40.437029579234824\n",
      "  Cluster 1\n",
      "\tMedia 40.4366681529545\n",
      "  Cluster 2\n",
      "\tMedia 40.43365528877222\n",
      "  Cluster 0\n",
      "\tMedia 40.427889327242994\n",
      "COLUMNA longitud\n",
      "  Cluster 3\n",
      "\tMedia -3.6898097925047746\n",
      "  Cluster 1\n",
      "\tMedia -3.6884905201603266\n",
      "  Cluster 2\n",
      "\tMedia -3.688544226379864\n",
      "  Cluster 0\n",
      "\tMedia -3.684923755037372\n",
      "COLUMNA n_rooms\n",
      "  Cluster 3\n",
      "\tMedia 2.610125260960334\n",
      "  Cluster 1\n",
      "\tMedia 3.546788990825688\n",
      "  Cluster 2\n",
      "\tMedia 4.252747252747253\n",
      "  Cluster 0\n",
      "\tMedia 1.7157226045526734\n",
      "COLUMNA n_baths\n",
      "  Cluster 3\n",
      "\tMedia 2.142484342379958\n",
      "  Cluster 1\n",
      "\tMedia 3.3944954128440368\n",
      "  Cluster 2\n",
      "\tMedia 4.428571428571429\n",
      "  Cluster 0\n",
      "\tMedia 1.2927474854420329\n",
      "COLUMNA cluster\n",
      "  Cluster 3\n",
      "\tMedia 3.0\n",
      "  Cluster 1\n",
      "\tMedia 1.0\n",
      "  Cluster 2\n",
      "\tMedia 2.0\n",
      "  Cluster 0\n",
      "\tMedia 0.0\n"
     ]
    }
   ],
   "source": [
    "# Por cada columna numérica, muestra la media de valores de cada clúster\n",
    "# ejemplo, media de habitaciones, media de baños, etc\n",
    "\n",
    "for c in col_num:\n",
    "    print('COLUMNA {}'.format(c))\n",
    "    for cl in df_limpio.cluster.unique():\n",
    "        print('  Cluster {}'.format(cl))\n",
    "        print('\\tMedia {}'.format(df_limpio[df_limpio.cluster==cl][c].mean()))"
   ]
  },
  {
   "cell_type": "code",
   "execution_count": null,
   "metadata": {},
   "outputs": [
    {
     "name": "stdout",
     "output_type": "stream",
     "text": [
      "COLUMNA tipology\n",
      "  Cluster 3\n",
      "\tMedia 0    Piso\n",
      "Name: tipology, dtype: object\n",
      "  Cluster 1\n",
      "\tMedia 0    Piso\n",
      "Name: tipology, dtype: object\n",
      "  Cluster 2\n",
      "\tMedia 0    Piso\n",
      "Name: tipology, dtype: object\n",
      "  Cluster 0\n",
      "\tMedia 0    Piso\n",
      "Name: tipology, dtype: object\n",
      "COLUMNA has_garage\n",
      "  Cluster 3\n",
      "\tMedia 0    f\n",
      "Name: has_garage, dtype: object\n",
      "  Cluster 1\n",
      "\tMedia 0    f\n",
      "Name: has_garage, dtype: object\n",
      "  Cluster 2\n",
      "\tMedia 0    t\n",
      "Name: has_garage, dtype: object\n",
      "  Cluster 0\n",
      "\tMedia 0    f\n",
      "Name: has_garage, dtype: object\n",
      "COLUMNA has_pool\n",
      "  Cluster 3\n",
      "\tMedia 0    f\n",
      "Name: has_pool, dtype: object\n",
      "  Cluster 1\n",
      "\tMedia 0    f\n",
      "Name: has_pool, dtype: object\n",
      "  Cluster 2\n",
      "\tMedia 0    f\n",
      "Name: has_pool, dtype: object\n",
      "  Cluster 0\n",
      "\tMedia 0    f\n",
      "Name: has_pool, dtype: object\n",
      "COLUMNA has_elevator\n",
      "  Cluster 3\n",
      "\tMedia 0    t\n",
      "Name: has_elevator, dtype: object\n",
      "  Cluster 1\n",
      "\tMedia 0    t\n",
      "Name: has_elevator, dtype: object\n",
      "  Cluster 2\n",
      "\tMedia 0    t\n",
      "Name: has_elevator, dtype: object\n",
      "  Cluster 0\n",
      "\tMedia 0    t\n",
      "Name: has_elevator, dtype: object\n",
      "COLUMNA is_exterior\n",
      "  Cluster 3\n",
      "\tMedia 0    t\n",
      "Name: is_exterior, dtype: object\n",
      "  Cluster 1\n",
      "\tMedia 0    t\n",
      "Name: is_exterior, dtype: object\n",
      "  Cluster 2\n",
      "\tMedia 0    t\n",
      "Name: is_exterior, dtype: object\n",
      "  Cluster 0\n",
      "\tMedia 0    t\n",
      "Name: is_exterior, dtype: object\n"
     ]
    }
   ],
   "source": [
    "# Por cada columna categórica, muestra la moda\n",
    "# ejemplo, media de habitaciones, media de baños, etc\n",
    "for c in col_cat:\n",
    "    print('COLUMNA {}'.format(c))\n",
    "    for cl in df_limpio.cluster.unique():\n",
    "        print('  Cluster {}'.format(cl))\n",
    "        print('\\tMedia {}'.format(df_limpio[df_limpio.cluster==cl][c].mode()))"
   ]
  },
  {
   "cell_type": "code",
   "execution_count": null,
   "metadata": {},
   "outputs": [
    {
     "data": {
      "text/plain": [
       "count    6330.000000\n",
       "mean      107.489258\n",
       "std        76.212949\n",
       "min        17.000000\n",
       "25%        60.000000\n",
       "50%        85.000000\n",
       "75%       130.000000\n",
       "max       600.000000\n",
       "Name: area, dtype: float64"
      ]
     },
     "execution_count": 93,
     "metadata": {},
     "output_type": "execute_result"
    }
   ],
   "source": [
    "df_limpio.area.describe()"
   ]
  },
  {
   "cell_type": "code",
   "execution_count": null,
   "metadata": {},
   "outputs": [
    {
     "name": "stderr",
     "output_type": "stream",
     "text": [
      "c:\\Users\\axa\\miniconda3\\envs\\modeloml\\lib\\site-packages\\seaborn\\_oldcore.py:1498: FutureWarning: is_categorical_dtype is deprecated and will be removed in a future version. Use isinstance(dtype, CategoricalDtype) instead\n",
      "  if pd.api.types.is_categorical_dtype(vector):\n",
      "c:\\Users\\axa\\miniconda3\\envs\\modeloml\\lib\\site-packages\\seaborn\\_oldcore.py:1498: FutureWarning: is_categorical_dtype is deprecated and will be removed in a future version. Use isinstance(dtype, CategoricalDtype) instead\n",
      "  if pd.api.types.is_categorical_dtype(vector):\n",
      "c:\\Users\\axa\\miniconda3\\envs\\modeloml\\lib\\site-packages\\seaborn\\_oldcore.py:1498: FutureWarning: is_categorical_dtype is deprecated and will be removed in a future version. Use isinstance(dtype, CategoricalDtype) instead\n",
      "  if pd.api.types.is_categorical_dtype(vector):\n",
      "c:\\Users\\axa\\miniconda3\\envs\\modeloml\\lib\\site-packages\\seaborn\\_oldcore.py:1498: FutureWarning: is_categorical_dtype is deprecated and will be removed in a future version. Use isinstance(dtype, CategoricalDtype) instead\n",
      "  if pd.api.types.is_categorical_dtype(vector):\n"
     ]
    },
    {
     "data": {
      "text/plain": [
       "<Axes: xlabel='n_rooms', ylabel='area'>"
      ]
     },
     "execution_count": 94,
     "metadata": {},
     "output_type": "execute_result"
    },
    {
     "data": {
      "image/png": "[encoded data removed]",
      "text/plain": [
       "<Figure size 600x600 with 1 Axes>"
      ]
     },
     "metadata": {},
     "output_type": "display_data"
    }
   ],
   "source": [
    "# scatter\n",
    "\n",
    "plt.figure(figsize=(6,6))\n",
    "sns.scatterplot(x=df_limpio.n_rooms, y=df_limpio.area, hue=df_limpio.cluster, palette=\"deep\")"
   ]
  },
  {
   "cell_type": "markdown",
   "metadata": {},
   "source": [
    "### Guardar csv con columna cluster\n",
    "* Cuando decidamos el nº de clústers guardamos en data/ no en data/raw"
   ]
  },
  {
   "cell_type": "code",
   "execution_count": null,
   "metadata": {},
   "outputs": [],
   "source": [
    "# Guardar df final, para usar con los modelos\n",
    "\n",
    "# df_limpio.to_csv('../data/df_limpio_clusters.csv') # con datos reales\n",
    "# df.to_csv('../data/alquiler_clusters.csv') # con datos escalados"
   ]
  },
  {
   "cell_type": "code",
   "execution_count": null,
   "metadata": {},
   "outputs": [],
   "source": [
    "dflimpio_clusters = pd.read_csv(r\"C:\\Users\\axa\\THE BRIDGE_23\\SEMANA 25. DESAFIO TRIPULACIONES\\df_limpio_clusters.csv\", sep=\",\")"
   ]
  },
  {
   "cell_type": "code",
   "execution_count": null,
   "metadata": {},
   "outputs": [
    {
     "data": {
      "text/html": [
       "<div>\n",
       "<style scoped>\n",
       "    .dataframe tbody tr th:only-of-type {\n",
       "        vertical-align: middle;\n",
       "    }\n",
       "\n",
       "    .dataframe tbody tr th {\n",
       "        vertical-align: top;\n",
       "    }\n",
       "\n",
       "    .dataframe thead th {\n",
       "        text-align: right;\n",
       "    }\n",
       "</style>\n",
       "<table border=\"1\" class=\"dataframe\">\n",
       "  <thead>\n",
       "    <tr style=\"text-align: right;\">\n",
       "      <th></th>\n",
       "      <th>Unnamed: 0</th>\n",
       "      <th>area</th>\n",
       "      <th>local_price</th>\n",
       "      <th>latitud</th>\n",
       "      <th>longitud</th>\n",
       "      <th>tipology</th>\n",
       "      <th>n_rooms</th>\n",
       "      <th>n_baths</th>\n",
       "      <th>has_garage</th>\n",
       "      <th>has_pool</th>\n",
       "      <th>has_elevator</th>\n",
       "      <th>is_exterior</th>\n",
       "      <th>cluster</th>\n",
       "    </tr>\n",
       "  </thead>\n",
       "  <tbody>\n",
       "    <tr>\n",
       "      <th>0</th>\n",
       "      <td>0</td>\n",
       "      <td>135</td>\n",
       "      <td>3200</td>\n",
       "      <td>40.437687</td>\n",
       "      <td>-3.691055</td>\n",
       "      <td>Piso</td>\n",
       "      <td>1.0</td>\n",
       "      <td>1.0</td>\n",
       "      <td>f</td>\n",
       "      <td>f</td>\n",
       "      <td>t</td>\n",
       "      <td>t</td>\n",
       "      <td>5</td>\n",
       "    </tr>\n",
       "    <tr>\n",
       "      <th>1</th>\n",
       "      <td>1</td>\n",
       "      <td>250</td>\n",
       "      <td>6000</td>\n",
       "      <td>40.439434</td>\n",
       "      <td>-3.686233</td>\n",
       "      <td>Piso</td>\n",
       "      <td>4.0</td>\n",
       "      <td>4.0</td>\n",
       "      <td>t</td>\n",
       "      <td>t</td>\n",
       "      <td>t</td>\n",
       "      <td>t</td>\n",
       "      <td>1</td>\n",
       "    </tr>\n",
       "    <tr>\n",
       "      <th>2</th>\n",
       "      <td>2</td>\n",
       "      <td>146</td>\n",
       "      <td>2460</td>\n",
       "      <td>40.468037</td>\n",
       "      <td>-3.708661</td>\n",
       "      <td>Piso</td>\n",
       "      <td>1.0</td>\n",
       "      <td>1.0</td>\n",
       "      <td>t</td>\n",
       "      <td>t</td>\n",
       "      <td>t</td>\n",
       "      <td>t</td>\n",
       "      <td>4</td>\n",
       "    </tr>\n",
       "    <tr>\n",
       "      <th>3</th>\n",
       "      <td>3</td>\n",
       "      <td>98</td>\n",
       "      <td>3000</td>\n",
       "      <td>40.441212</td>\n",
       "      <td>-3.670406</td>\n",
       "      <td>Piso</td>\n",
       "      <td>1.0</td>\n",
       "      <td>1.0</td>\n",
       "      <td>f</td>\n",
       "      <td>f</td>\n",
       "      <td>f</td>\n",
       "      <td>t</td>\n",
       "      <td>5</td>\n",
       "    </tr>\n",
       "    <tr>\n",
       "      <th>4</th>\n",
       "      <td>4</td>\n",
       "      <td>125</td>\n",
       "      <td>3675</td>\n",
       "      <td>40.411247</td>\n",
       "      <td>-3.668222</td>\n",
       "      <td>Piso</td>\n",
       "      <td>1.0</td>\n",
       "      <td>1.0</td>\n",
       "      <td>t</td>\n",
       "      <td>t</td>\n",
       "      <td>t</td>\n",
       "      <td>t</td>\n",
       "      <td>5</td>\n",
       "    </tr>\n",
       "    <tr>\n",
       "      <th>...</th>\n",
       "      <td>...</td>\n",
       "      <td>...</td>\n",
       "      <td>...</td>\n",
       "      <td>...</td>\n",
       "      <td>...</td>\n",
       "      <td>...</td>\n",
       "      <td>...</td>\n",
       "      <td>...</td>\n",
       "      <td>...</td>\n",
       "      <td>...</td>\n",
       "      <td>...</td>\n",
       "      <td>...</td>\n",
       "      <td>...</td>\n",
       "    </tr>\n",
       "    <tr>\n",
       "      <th>6345</th>\n",
       "      <td>6345</td>\n",
       "      <td>45</td>\n",
       "      <td>1450</td>\n",
       "      <td>40.414158</td>\n",
       "      <td>-3.701161</td>\n",
       "      <td>Piso</td>\n",
       "      <td>1.0</td>\n",
       "      <td>1.0</td>\n",
       "      <td>f</td>\n",
       "      <td>f</td>\n",
       "      <td>f</td>\n",
       "      <td>f</td>\n",
       "      <td>0</td>\n",
       "    </tr>\n",
       "    <tr>\n",
       "      <th>6346</th>\n",
       "      <td>6346</td>\n",
       "      <td>30</td>\n",
       "      <td>1250</td>\n",
       "      <td>40.425045</td>\n",
       "      <td>-3.705386</td>\n",
       "      <td>Piso</td>\n",
       "      <td>1.0</td>\n",
       "      <td>1.0</td>\n",
       "      <td>f</td>\n",
       "      <td>f</td>\n",
       "      <td>f</td>\n",
       "      <td>f</td>\n",
       "      <td>0</td>\n",
       "    </tr>\n",
       "    <tr>\n",
       "      <th>6347</th>\n",
       "      <td>6347</td>\n",
       "      <td>73</td>\n",
       "      <td>900</td>\n",
       "      <td>40.392933</td>\n",
       "      <td>-3.736926</td>\n",
       "      <td>Piso</td>\n",
       "      <td>1.0</td>\n",
       "      <td>1.0</td>\n",
       "      <td>t</td>\n",
       "      <td>t</td>\n",
       "      <td>t</td>\n",
       "      <td>t</td>\n",
       "      <td>0</td>\n",
       "    </tr>\n",
       "    <tr>\n",
       "      <th>6348</th>\n",
       "      <td>6348</td>\n",
       "      <td>32</td>\n",
       "      <td>850</td>\n",
       "      <td>40.417221</td>\n",
       "      <td>-3.703297</td>\n",
       "      <td>Piso</td>\n",
       "      <td>0.0</td>\n",
       "      <td>1.0</td>\n",
       "      <td>f</td>\n",
       "      <td>f</td>\n",
       "      <td>t</td>\n",
       "      <td>t</td>\n",
       "      <td>0</td>\n",
       "    </tr>\n",
       "    <tr>\n",
       "      <th>6349</th>\n",
       "      <td>6349</td>\n",
       "      <td>55</td>\n",
       "      <td>2590</td>\n",
       "      <td>40.425976</td>\n",
       "      <td>-3.713353</td>\n",
       "      <td>Piso</td>\n",
       "      <td>1.0</td>\n",
       "      <td>1.0</td>\n",
       "      <td>f</td>\n",
       "      <td>t</td>\n",
       "      <td>t</td>\n",
       "      <td>t</td>\n",
       "      <td>4</td>\n",
       "    </tr>\n",
       "  </tbody>\n",
       "</table>\n",
       "<p>6350 rows × 13 columns</p>\n",
       "</div>"
      ],
      "text/plain": [
       "      Unnamed: 0  area  local_price    latitud  longitud tipology  n_rooms  \\\n",
       "0              0   135         3200  40.437687 -3.691055     Piso      1.0   \n",
       "1              1   250         6000  40.439434 -3.686233     Piso      4.0   \n",
       "2              2   146         2460  40.468037 -3.708661     Piso      1.0   \n",
       "3              3    98         3000  40.441212 -3.670406     Piso      1.0   \n",
       "4              4   125         3675  40.411247 -3.668222     Piso      1.0   \n",
       "...          ...   ...          ...        ...       ...      ...      ...   \n",
       "6345        6345    45         1450  40.414158 -3.701161     Piso      1.0   \n",
       "6346        6346    30         1250  40.425045 -3.705386     Piso      1.0   \n",
       "6347        6347    73          900  40.392933 -3.736926     Piso      1.0   \n",
       "6348        6348    32          850  40.417221 -3.703297     Piso      0.0   \n",
       "6349        6349    55         2590  40.425976 -3.713353     Piso      1.0   \n",
       "\n",
       "      n_baths has_garage has_pool has_elevator is_exterior  cluster  \n",
       "0         1.0          f        f            t           t        5  \n",
       "1         4.0          t        t            t           t        1  \n",
       "2         1.0          t        t            t           t        4  \n",
       "3         1.0          f        f            f           t        5  \n",
       "4         1.0          t        t            t           t        5  \n",
       "...       ...        ...      ...          ...         ...      ...  \n",
       "6345      1.0          f        f            f           f        0  \n",
       "6346      1.0          f        f            f           f        0  \n",
       "6347      1.0          t        t            t           t        0  \n",
       "6348      1.0          f        f            t           t        0  \n",
       "6349      1.0          f        t            t           t        4  \n",
       "\n",
       "[6350 rows x 13 columns]"
      ]
     },
     "execution_count": 97,
     "metadata": {},
     "output_type": "execute_result"
    }
   ],
   "source": [
    "dflimpio_clusters"
   ]
  },
  {
   "cell_type": "markdown",
   "metadata": {},
   "source": [
    "<div id=\"map\"></div>"
   ]
  },
  {
   "cell_type": "markdown",
   "metadata": {},
   "source": [
    "<script>\n",
    "    function initMap() {\n",
    "        var map = new google.maps.Map(document.getElementById('map'), {\n",
    "            center: {lat: 40.416775, lng: -3.703790}, // Centra el mapa en Madrid\n",
    "            zoom: 12 // Nivel de zoom\n",
    "        });\n",
    "\n",
    "        // Agrega listener para capturar el evento de clic en el mapa. Chincheta\n",
    "        google.maps.event.addListener(map, 'click', function(event) {\n",
    "            // La variable \"event\" contiene las coordenadas (latitud y longitud) de la ubicación seleccionada\n",
    "            var lat = event.latLng.lat();\n",
    "            var lng = event.latLng.lng();\n",
    "            // Puedes usar estas coordenadas en tu formulario\n",
    "            document.getElementById('latitud').value = lat;\n",
    "            document.getElementById('longitud').value = lng;\n",
    "        });\n",
    "    }\n",
    "</script>\n"
   ]
  },
  {
   "cell_type": "markdown",
   "metadata": {},
   "source": [
    "<script src=\"https://maps.googleapis.com/maps/api/js?key=YOUR_API_KEY&callback=initMap\" async defer></script>"
   ]
  }
 ],
 "metadata": {
  "kernelspec": {
   "display_name": "modeloml",
   "language": "python",
   "name": "python3"
  },
  "language_info": {
   "codemirror_mode": {
    "name": "ipython",
    "version": 3
   },
   "file_extension": ".py",
   "mimetype": "text/x-python",
   "name": "python",
   "nbconvert_exporter": "python",
   "pygments_lexer": "ipython3",
   "version": "3.9.18"
  }
 },
 "nbformat": 4,
 "nbformat_minor": 2
}
